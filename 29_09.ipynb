{
  "nbformat": 4,
  "nbformat_minor": 0,
  "metadata": {
    "colab": {
      "provenance": [],
      "authorship_tag": "ABX9TyN5c3ejOssKgGX9Jt56L9+7",
      "include_colab_link": true
    },
    "kernelspec": {
      "name": "python3",
      "display_name": "Python 3"
    },
    "language_info": {
      "name": "python"
    }
  },
  "cells": [
    {
      "cell_type": "markdown",
      "metadata": {
        "id": "view-in-github",
        "colab_type": "text"
      },
      "source": [
        "<a href=\"https://colab.research.google.com/github/Bernardo751/PA_python/blob/main/29_09.ipynb\" target=\"_parent\"><img src=\"https://colab.research.google.com/assets/colab-badge.svg\" alt=\"Open In Colab\"/></a>"
      ]
    },
    {
      "cell_type": "code",
      "execution_count": 10,
      "metadata": {
        "colab": {
          "base_uri": "https://localhost:8080/"
        },
        "id": "xYn3z57J5KLR",
        "outputId": "82930a19-f2aa-4296-ee8f-d7903addcfb9"
      },
      "outputs": [
        {
          "output_type": "stream",
          "name": "stdout",
          "text": [
            "Jogo do Termo - Tente adivinhar a palavra de 5 letras.\n",
            "Você tem 6 tentativas.\n",
            "\n",
            "Digite uma palavra de 5 letras: roupa\n",
            "_ (o) (u) _ _\n",
            "voce ainda tem  5 tentativas.\n",
            "\n",
            "Digite uma palavra de 5 letras: molho\n",
            "_ (o) _ _ _\n",
            "voce ainda tem  4 tentativas.\n",
            "\n",
            "Digite uma palavra de 5 letras: gosto\n",
            "_ (o) _ _ _\n",
            "voce ainda tem  3 tentativas.\n",
            "\n",
            "Digite uma palavra de 5 letras: falso\n",
            "(f) _ _ _ (o)\n",
            "voce ainda tem  2 tentativas.\n",
            "\n",
            "Digite uma palavra de 5 letras: fundo\n",
            "Parabéns!\n",
            "Você acertou a palavra: fundo\n"
          ]
        }
      ],
      "source": [
        "import random\n",
        "\n",
        "palavras = [\"bravo\", \"fundo\", \"claro\", \"quase\", \"andar\", \"cheio\", \"falso\", \"pista\", \"canto\", \"largo\"]\n",
        "\n",
        "\n",
        "jogo = random.randint(0, len(palavras) - 1)\n",
        "palavra = palavras[jogo]\n",
        "\n",
        "tentativas = 6\n",
        "tamanho = len(palavra)\n",
        "\n",
        "print(\"Jogo do Termo - Tente adivinhar a palavra de 5 letras.\")\n",
        "print(\"Você tem\", tentativas, \"tentativas.\\n\")\n",
        "\n",
        "while tentativas > 0:\n",
        "    adivinha = input(\"Digite uma palavra de 5 letras: \")\n",
        "\n",
        "    if len(chute) != tamanho:\n",
        "        print(\"Erro: a palavra deve ter exatamente\", tamanho, \"letras.\")\n",
        "        continue\n",
        "\n",
        "    adivinha = adivinha.lower()\n",
        "\n",
        "    if adivinha == palavra:\n",
        "        print(\"Parabéns!\")\n",
        "        print(\"Você acertou a palavra:\", palavra)\n",
        "        break\n",
        "\n",
        "    resultado = []\n",
        "    usado = []\n",
        "    for i in range(tamanho):\n",
        "        usado.append(False)\n",
        "\n",
        "\n",
        "    for i in range(tamanho):\n",
        "        if chute[i] == palavra[i]:\n",
        "            resultado.append(\"[\" + adivinha [i] + \"]\")\n",
        "            usado[i] = True\n",
        "        else:\n",
        "            resultado.append(\"_\")\n",
        "\n",
        "\n",
        "    for i in range(tamanho):\n",
        "        if resultado[i] == \"_\":\n",
        "            letra = adivinha[i]\n",
        "            achou = False\n",
        "            for j in range(tamanho):\n",
        "                if usado[j] == False and palavra[j] == letra:\n",
        "                    achou = True\n",
        "                    usado[j] = True\n",
        "                    break\n",
        "            if achou:\n",
        "                resultado[i] = \"(\" + letra + \")\"\n",
        "            else:\n",
        "                resultado[i] = \"_\"\n",
        "\n",
        "    print(\" \".join(resultado))\n",
        "\n",
        "    tentativas = tentativas - 1\n",
        "    print(\"voce ainda tem \", tentativas, \"tentativas.\\n\")\n",
        "\n",
        "if tentativas == 0:\n",
        "    print(\"acertou!\")\n",
        "    print(\"acabou as tentativas. A palavra era:\", palavra)\n"
      ]
    }
  ]
}