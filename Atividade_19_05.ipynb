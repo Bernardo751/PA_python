{
  "nbformat": 4,
  "nbformat_minor": 0,
  "metadata": {
    "colab": {
      "provenance": [],
      "authorship_tag": "ABX9TyM1FWuQFn1FHxDIhOJiBZD6",
      "include_colab_link": true
    },
    "kernelspec": {
      "name": "python3",
      "display_name": "Python 3"
    },
    "language_info": {
      "name": "python"
    }
  },
  "cells": [
    {
      "cell_type": "markdown",
      "metadata": {
        "id": "view-in-github",
        "colab_type": "text"
      },
      "source": [
        "<a href=\"https://colab.research.google.com/github/Bernardo751/PA_python/blob/main/Atividade_19_05.ipynb\" target=\"_parent\"><img src=\"https://colab.research.google.com/assets/colab-badge.svg\" alt=\"Open In Colab\"/></a>"
      ]
    },
    {
      "cell_type": "code",
      "execution_count": 31,
      "metadata": {
        "colab": {
          "base_uri": "https://localhost:8080/"
        },
        "id": "bs1slytg3PgV",
        "outputId": "483a5387-920f-49fa-e0f7-7ba1eb03014a"
      },
      "outputs": [
        {
          "output_type": "stream",
          "name": "stdout",
          "text": [
            "Digite o nome de usuário: cliente\n",
            "Digite a senha: 1234\n",
            "Login bem-sucedido!\n",
            "Escolha a operação:\n",
            "1 - Sacar\n",
            "2 - Depositar\n",
            "3 - Ver saldo\n",
            "Digite a opção desejada: 2\n",
            "Digite o valor do depósito: 100\n",
            "Depósito realizado. Novo saldo: R$ 50.0\n"
          ]
        }
      ],
      "source": [
        "usuario_correto = \"cliente\"\n",
        "senha_correta = \"1234\"\n",
        "\n",
        "usuario = input(\"Digite o nome de usuário: \")\n",
        "senha = input(\"Digite a senha: \")\n",
        "\n",
        "if usuario == usuario_correto and senha == senha_correta:\n",
        "    print(\"Login bem-sucedido!\")\n",
        "\n",
        "    saldo = -50.00\n",
        "    limite = 3000.00\n",
        "\n",
        "    print(\"Escolha a operação:\")\n",
        "    print(\"1 - Sacar\")\n",
        "    print(\"2 - Depositar\")\n",
        "    print(\"3 - Ver saldo\")\n",
        "\n",
        "    opcao = int(input(\"Digite a opção desejada: \"))\n",
        "\n",
        "    if opcao == 1:\n",
        "        saque = float(input(\"Digite o valor que deseja sacar: \"))\n",
        "        if saque <= saldo + limite:\n",
        "            saldo = saldo - saque\n",
        "            print(\"Saque autorizado.\")\n",
        "            print(\"Saldo atual: R$\", saldo)\n",
        "            print(\"Limite restante: R$\", limite + saldo)\n",
        "            if saldo < 0:\n",
        "                print(\"Você está usando R$\", -saldo, \"do seu limite.\")\n",
        "        else:\n",
        "            print(\"Saque negado. Limite insuficiente.\")\n",
        "\n",
        "    elif opcao == 2:\n",
        "        deposito = float(input(\"Digite o valor do depósito: \"))\n",
        "        saldo = saldo + deposito\n",
        "        print(\"Depósito realizado. Novo saldo: R$\", saldo)\n",
        "        if saldo > limite:\n",
        "            print(\"Atenção: Seu saldo ultrapassou o limite permitido!\")\n",
        "\n",
        "    elif opcao == 3:\n",
        "        print(\"Seu saldo atual é: R$\", saldo)\n",
        "        print(\"Limite disponível: R$\", limite + saldo)\n",
        "\n",
        "    else:\n",
        "        print(\"Opção inválida.\")\n",
        "\n",
        "else:\n",
        "    print(\"Usuário ou senha incorretos. Tente novamente.\")\n",
        "\n",
        "\n"
      ]
    },
    {
      "cell_type": "code",
      "source": [
        "altura = float(input(\"Digite sua altura em metros: \"))\n",
        "idade = int(input(\"Digite sua idade: \"))\n",
        "\n",
        "if altura >= 1.75 and idade >= 18:\n",
        "    print(\"Você pode competir no campeonato de vôlei.\")\n",
        "else:\n",
        "    print(\"Você NÃO pode competir.\")"
      ],
      "metadata": {
        "colab": {
          "base_uri": "https://localhost:8080/"
        },
        "id": "rz-r-Re4_TVP",
        "outputId": "52f316db-e92f-434d-f030-6154462cc81d"
      },
      "execution_count": 16,
      "outputs": [
        {
          "output_type": "stream",
          "name": "stdout",
          "text": [
            "Digite sua altura em metros: 1.90\n",
            "Digite sua idade: 15\n",
            "Você NÃO pode competir.\n"
          ]
        }
      ]
    },
    {
      "cell_type": "code",
      "source": [
        "peso = float(input(\"Digite seu peso em kg: \"))\n",
        "\n",
        "if peso < 52:\n",
        "    print(\"Categoria: Galo\")\n",
        "elif peso < 60:\n",
        "    print(\"Categoria: Pena\")\n",
        "elif peso < 75:\n",
        "    print(\"Categoria: Leve\")\n",
        "elif peso < 91:\n",
        "    print(\"Categoria: Meio-pesado\")\n",
        "else:\n",
        "    print(\"Categoria: Pesado\")"
      ],
      "metadata": {
        "colab": {
          "base_uri": "https://localhost:8080/"
        },
        "id": "ZK4M7Awp_Gy8",
        "outputId": "b0f1856d-eefd-4aa8-c5c0-e94dd1d59af1"
      },
      "execution_count": 15,
      "outputs": [
        {
          "output_type": "stream",
          "name": "stdout",
          "text": [
            "Digite seu peso em kg: 50\n",
            "Categoria: Galo\n"
          ]
        }
      ]
    },
    {
      "cell_type": "code",
      "source": [
        "salario = float(input(\"Digite o salário do funcionário: \"))\n",
        "\n",
        "if salario <= 1500:\n",
        "    aumento = salario * 0.20\n",
        "elif salario <= 3000:\n",
        "    aumento = salario * 0.15\n",
        "else:\n",
        "    aumento = salario * 0.10\n",
        "\n",
        "novo_salario = salario + aumento\n",
        "\n",
        "print(\"Aumento: R$\", aumento)\n",
        "print(\"Novo salário: R$\", novo_salario)"
      ],
      "metadata": {
        "colab": {
          "base_uri": "https://localhost:8080/"
        },
        "id": "tDz664DCLUdT",
        "outputId": "9e53c1e4-f573-482a-e41b-dda81377796b"
      },
      "execution_count": 38,
      "outputs": [
        {
          "output_type": "stream",
          "name": "stdout",
          "text": [
            "Digite o salário do funcionário: 5000\n",
            "Aumento: R$ 500.0\n",
            "Novo salário: R$ 5500.0\n"
          ]
        }
      ]
    },
    {
      "cell_type": "code",
      "source": [
        "salario = float(input(\"Digite seu salário: \"))\n",
        "\n",
        "if salario <= 1903.98:\n",
        "    imposto = 0\n",
        "elif salario <= 2826.65:\n",
        "    imposto = salario * 0.075\n",
        "elif salario <= 3751.05:\n",
        "    imposto = salario * 0.15\n",
        "elif salario <= 4664.68:\n",
        "    imposto = salario * 0.225\n",
        "else:\n",
        "    imposto = salario * 0.275\n",
        "\n",
        "print(\"Você pagará de imposto: R$\", imposto)"
      ],
      "metadata": {
        "colab": {
          "base_uri": "https://localhost:8080/"
        },
        "id": "nBrRU5kiFW31",
        "outputId": "b56e1248-6eea-4207-c50b-da29d27c929a"
      },
      "execution_count": 34,
      "outputs": [
        {
          "output_type": "stream",
          "name": "stdout",
          "text": [
            "Digite seu salário: 7000\n",
            "Você pagará de imposto: R$ 1925.0000000000002\n"
          ]
        }
      ]
    },
    {
      "cell_type": "code",
      "source": [
        "peso = float(input(\"Digite o peso do pacote (em kg): \"))\n",
        "distancia = float(input(\"Digite a distância até o destino (em km): \"))\n",
        "\n",
        "if peso <= 2:\n",
        "    preco_por_100km = 5\n",
        "elif peso <= 5:\n",
        "    preco_por_100km = 8\n",
        "else:\n",
        "    preco_por_100km = 10\n",
        "\n",
        "blocos = distancia / 100\n",
        "frete = blocos * preco_por_100km\n",
        "\n",
        "print(\"Para um pacote de\", peso, \"kg viajando\", distancia, \"km, o valor do frete será R$\", frete)"
      ],
      "metadata": {
        "colab": {
          "base_uri": "https://localhost:8080/"
        },
        "id": "Ddoh1_2_KwFQ",
        "outputId": "46f94958-bd5b-4448-fe20-543c9d1e9b2e"
      },
      "execution_count": 37,
      "outputs": [
        {
          "output_type": "stream",
          "name": "stdout",
          "text": [
            "Digite o peso do pacote (em kg): 50\n",
            "Digite a distância até o destino (em km): 100\n",
            "Para um pacote de 50.0 kg viajando 100.0 km, o valor do frete será R$ 10.0\n"
          ]
        }
      ]
    }
  ]
}