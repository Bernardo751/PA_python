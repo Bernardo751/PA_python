{
  "nbformat": 4,
  "nbformat_minor": 0,
  "metadata": {
    "colab": {
      "provenance": [],
      "authorship_tag": "ABX9TyOfTF/fokYNaMSQyD1RtzVL",
      "include_colab_link": true
    },
    "kernelspec": {
      "name": "python3",
      "display_name": "Python 3"
    },
    "language_info": {
      "name": "python"
    }
  },
  "cells": [
    {
      "cell_type": "markdown",
      "metadata": {
        "id": "view-in-github",
        "colab_type": "text"
      },
      "source": [
        "<a href=\"https://colab.research.google.com/github/Bernardo751/PA_python/blob/main/Atividadedia12_05.ipynb\" target=\"_parent\"><img src=\"https://colab.research.google.com/assets/colab-badge.svg\" alt=\"Open In Colab\"/></a>"
      ]
    },
    {
      "cell_type": "code",
      "execution_count": 3,
      "metadata": {
        "colab": {
          "base_uri": "https://localhost:8080/"
        },
        "id": "6r12zkiTw-23",
        "outputId": "3b2cf084-f3b3-41ce-e423-237f27cfd092"
      },
      "outputs": [
        {
          "output_type": "stream",
          "name": "stdout",
          "text": [
            "Digite o ano: 2024\n",
            "Ano bissexto\n"
          ]
        }
      ],
      "source": [
        "##Entrada\n",
        "\n",
        "Ano = int(input(\"Digite o ano: \"))\n",
        "\n",
        "##Processamento\n",
        "\n",
        "if Ano % 4 == 0 and Ano % 100 != 0 or  Ano % 400 == 0:\n",
        "  print(\"Ano bissexto\")\n",
        "\n",
        "else:\n",
        "    print(\"Ano não bissexto\")\n",
        "\n",
        "\n"
      ]
    },
    {
      "cell_type": "code",
      "source": [
        "##Entrada\n",
        "idade=int(input(\"Digite a idade: \"))\n",
        "\n",
        "##Processamento\n",
        "if idade >= 18 and idade <= 20:\n",
        "  print(\"Pode jogar no sub 20\")\n",
        "\n",
        "else:\n",
        "  print(\"Não pode jogar no sub 20\")"
      ],
      "metadata": {
        "colab": {
          "base_uri": "https://localhost:8080/"
        },
        "id": "oKfkunB_6foV",
        "outputId": "1ee5ce77-efab-44ea-ca4d-6034bc35ebdc"
      },
      "execution_count": 8,
      "outputs": [
        {
          "output_type": "stream",
          "name": "stdout",
          "text": [
            "Digite a idade: 20\n",
            "Pode jogar no sub 20\n"
          ]
        }
      ]
    },
    {
      "cell_type": "code",
      "source": [
        "##Entrada\n",
        "numero=int(input(\"Digite o numero: \"))\n",
        "\n",
        "##Processamento\n",
        "if numero>=1 and numero<20:\n",
        "  print(\"Faz parte do grupo A\")\n",
        "\n",
        "elif numero>=21 and numero<40:\n",
        "  print(\"Faz parte do grupo B\")\n",
        "\n",
        "else:\n",
        "  print(\"Faz parte do grupo C\")"
      ],
      "metadata": {
        "colab": {
          "base_uri": "https://localhost:8080/"
        },
        "id": "mZeEZn_m8dPn",
        "outputId": "a070792c-6b68-4b09-abac-29784a1d9209"
      },
      "execution_count": 19,
      "outputs": [
        {
          "output_type": "stream",
          "name": "stdout",
          "text": [
            "Digite o numero: 40\n",
            "Faz parte do grupo C\n"
          ]
        }
      ]
    },
    {
      "cell_type": "code",
      "source": [
        "##Entrada\n",
        "valor = int(input(\"Digite o valor: \"))\n",
        "\n",
        "##Processamento\n",
        "if valor %2 == 0:\n",
        " print(\"O numero é par\")\n",
        "\n",
        "else:\n",
        " print(\"O numero é impar\")"
      ],
      "metadata": {
        "colab": {
          "base_uri": "https://localhost:8080/"
        },
        "id": "qDSWHPbXA4Ge",
        "outputId": "30b46510-d389-4780-8d67-3ef7bf6f8055"
      },
      "execution_count": 27,
      "outputs": [
        {
          "output_type": "stream",
          "name": "stdout",
          "text": [
            "Digite o valor: 12\n",
            "O numero é par\n"
          ]
        }
      ]
    },
    {
      "cell_type": "code",
      "source": [
        "##Entrada\n",
        "L1 = int(input(\"Digite os três lados do triângulo \"))\n",
        "L2 = int(input(\"Digite o lado do L2 \"))\n",
        "L3 = int(input(\"Digite o lado do L3 \"))\n",
        "\n",
        "##Processamento\n",
        "if L1+L2>L3 and L2+L3>L1 and L3+L1>L2:\n",
        " print(\"triângulo\")\n",
        "\n",
        "elif 11==12==13:\n",
        " print(\"equilatero\")\n",
        "\n",
        "elif L1!= L2 !=L3:\n",
        " print(\"escaleno\")\n",
        "\n",
        "else:\n",
        " print(\"isóceles\")"
      ],
      "metadata": {
        "colab": {
          "base_uri": "https://localhost:8080/"
        },
        "id": "SSrHS7TECnBM",
        "outputId": "836a3f86-b6c7-4bd8-e328-7a66405f7cf5"
      },
      "execution_count": 41,
      "outputs": [
        {
          "output_type": "stream",
          "name": "stdout",
          "text": [
            "Digite os três lados do triângulo 3\n",
            "Digite o lado do L2 2\n",
            "Digite o lado do L3 5\n",
            "escaleno\n"
          ]
        }
      ]
    },
    {
      "cell_type": "code",
      "source": [
        "##Entrada\n",
        "peso = float(input(\"Digite o peso (em kg): \"))\n",
        "altura = float(input(\"Digite a altura (metro): \"))\n",
        "\n",
        "##Processamento\n",
        "imc=peso/altura**2\n",
        "\n",
        "if imc<18.5:\n",
        " print(\"abaixo_do_peso\")\n",
        "\n",
        "elif imc>=18.5 and imc<=24.9:\n",
        " print(\"peso_normal\")\n",
        "\n",
        "elif imc>=25 and imc<=29.9:\n",
        " print(\"sobrepeso\")\n",
        "\n",
        "elif imc>=30 and imc<=34.9:\n",
        " print(\"obesidade_grau_1\")\n",
        "\n",
        "elif imc>=35 and imc<=39.9:\n",
        " print(\"obesidade_grau_2\")\n",
        "\n",
        "else:\n",
        " print(\"obesidade_grau_3\")\n"
      ],
      "metadata": {
        "colab": {
          "base_uri": "https://localhost:8080/"
        },
        "id": "aVYhCTZcEVHy",
        "outputId": "5b4058ed-3ce1-4be8-bd37-441e88e4f889"
      },
      "execution_count": 53,
      "outputs": [
        {
          "output_type": "stream",
          "name": "stdout",
          "text": [
            "Digite o peso (em kg): 90\n",
            "Digite a altura (metro): 1.70\n",
            "obesidade_grau_1\n"
          ]
        }
      ]
    },
    {
      "cell_type": "code",
      "source": [
        "##Entrada\n",
        "\n",
        "altura = float(input(\"informe a aultura: \"))\n",
        "idade = int(input(\"informe a idade: \"))\n",
        "\n",
        "##Processamento\n",
        "\n",
        "if altura>=1.75 and idade>=18:\n",
        "  print(\"pode jogar o campeonato\")\n",
        "\n",
        "else:\n",
        "  print(\"não pode jogar o campeonato\")"
      ],
      "metadata": {
        "colab": {
          "base_uri": "https://localhost:8080/"
        },
        "id": "wjG7uO8qHiR1",
        "outputId": "a04a086e-48c6-410f-912f-ffdb272970f3"
      },
      "execution_count": 56,
      "outputs": [
        {
          "output_type": "stream",
          "name": "stdout",
          "text": [
            "informe a aultura: 1.90\n",
            "informe a idade: 17\n",
            "não pode jogar o campeonato\n"
          ]
        }
      ]
    },
    {
      "cell_type": "code",
      "source": [
        "##Entrada\n",
        "emprestimo = int(input(\"Digite o valor do emprestimo: \"))\n",
        "salario = int(input(\"Digite o salario: \"))\n",
        "parcelas = int(input(\"Digite o número de parcelas: \"))\n",
        "\n",
        "##Processamento\n",
        "salario*0.3\n",
        "\n",
        "emprestimo/parcelas\n",
        "if salario*0.3>=emprestimo/parcelas:\n",
        "  print(\"Emprestimo concedido\")\n",
        "\n",
        "else:\n",
        "  print(\"Emprestimo negado\")\n"
      ],
      "metadata": {
        "colab": {
          "base_uri": "https://localhost:8080/"
        },
        "id": "v0mpv7i9IhCF",
        "outputId": "7cb118f2-6cec-4acb-a269-ad4c2ec08f0f"
      },
      "execution_count": 57,
      "outputs": [
        {
          "output_type": "stream",
          "name": "stdout",
          "text": [
            "Digite o valor do emprestimo: 3000\n",
            "Digite o salario: 5000\n",
            "Digite o número de parcelas: 10\n",
            "Emprestimo concedido\n"
          ]
        }
      ]
    }
  ]
}