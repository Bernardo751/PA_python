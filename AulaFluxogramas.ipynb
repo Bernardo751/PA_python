{
  "nbformat": 4,
  "nbformat_minor": 0,
  "metadata": {
    "colab": {
      "provenance": [],
      "authorship_tag": "ABX9TyP0EZ3+7Nn4nIe1ZXw62bEo",
      "include_colab_link": true
    },
    "kernelspec": {
      "name": "python3",
      "display_name": "Python 3"
    },
    "language_info": {
      "name": "python"
    }
  },
  "cells": [
    {
      "cell_type": "markdown",
      "metadata": {
        "id": "view-in-github",
        "colab_type": "text"
      },
      "source": [
        "<a href=\"https://colab.research.google.com/github/Bernardo751/PA_python/blob/main/AulaFluxogramas.ipynb\" target=\"_parent\"><img src=\"https://colab.research.google.com/assets/colab-badge.svg\" alt=\"Open In Colab\"/></a>"
      ]
    },
    {
      "cell_type": "code",
      "execution_count": 13,
      "metadata": {
        "colab": {
          "base_uri": "https://localhost:8080/"
        },
        "id": "UYz5g2Zg8cYI",
        "outputId": "da4f978a-4f5d-47f7-a392-28e4a93a66fc"
      },
      "outputs": [
        {
          "output_type": "stream",
          "name": "stdout",
          "text": [
            "digite o valor do carro: 35000\n",
            "o valor do imposto é: 15750.0\n",
            "o valor da distribuiçao é igual a: 9800.0\n"
          ]
        }
      ],
      "source": [
        "#calcular\n",
        "##entrada\n",
        "valorcarro = float(input(\"digite o valor do carro: \"))\n",
        "\n",
        "##processamento\n",
        "imposto = (valorcarro *45/100)\n",
        "distribuiçao = (valorcarro *28/100)\n",
        "\n",
        "##saida\n",
        "print('o valor do imposto é:' , imposto)\n",
        "print(\"o valor da distribuiçao é igual a:\" , distribuiçao)"
      ]
    },
    {
      "cell_type": "code",
      "source": [
        "#calcular\n",
        "##entrada\n",
        "hora = float(input('digite as horas: '))\n",
        "minutos = float(input('digite os minutos: '))\n",
        "\n",
        "##processamento\n",
        "hora = hora = minutos/60\n",
        "\n",
        "##saida\n",
        "print('a hora é: ', hora)"
      ],
      "metadata": {
        "colab": {
          "base_uri": "https://localhost:8080/"
        },
        "id": "oMEsC0yKBxDw",
        "outputId": "be3d9dca-8e5a-4a04-c024-e61d1853804a"
      },
      "execution_count": 10,
      "outputs": [
        {
          "output_type": "stream",
          "name": "stdout",
          "text": [
            "digite as horas: 10\n",
            "digite os minutos: 45\n",
            "a hora é:  0.75\n"
          ]
        }
      ]
    },
    {
      "cell_type": "code",
      "source": [
        "#calcular\n",
        "##entrada\n",
        "hora = float(input('digite as horas: '))\n",
        "minutos = float(input('digite os minutos: '))\n",
        "valorporhora = float(input('digite o valor por hora: '))\n",
        "\n",
        "##processamento\n",
        "hora = hora = minutos/60\n",
        "salario = (hora * valorporhora) /100*70\n",
        "\n",
        "##saida\n",
        "print('o valor do salario é:', salario)"
      ],
      "metadata": {
        "colab": {
          "base_uri": "https://localhost:8080/"
        },
        "id": "3xjGv6snEW-J",
        "outputId": "7db707d0-62de-4272-a0f1-cb87c4aca56c"
      },
      "execution_count": 14,
      "outputs": [
        {
          "output_type": "stream",
          "name": "stdout",
          "text": [
            "digite as horas: 36\n",
            "digite os minutos: 10\n",
            "digite o valor por hora: 10\n",
            "o valor do salario é: 1.1666666666666667\n"
          ]
        }
      ]
    }
  ]
}