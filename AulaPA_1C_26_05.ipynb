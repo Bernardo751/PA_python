{
  "nbformat": 4,
  "nbformat_minor": 0,
  "metadata": {
    "colab": {
      "provenance": [],
      "authorship_tag": "ABX9TyPXDpIcrEahae5IGe/lzl3r",
      "include_colab_link": true
    },
    "kernelspec": {
      "name": "python3",
      "display_name": "Python 3"
    },
    "language_info": {
      "name": "python"
    }
  },
  "cells": [
    {
      "cell_type": "markdown",
      "metadata": {
        "id": "view-in-github",
        "colab_type": "text"
      },
      "source": [
        "<a href=\"https://colab.research.google.com/github/Bernardo751/PA_python/blob/main/AulaPA_1C_26_05.ipynb\" target=\"_parent\"><img src=\"https://colab.research.google.com/assets/colab-badge.svg\" alt=\"Open In Colab\"/></a>"
      ]
    },
    {
      "cell_type": "code",
      "source": [
        "# Entrada de dados\n",
        "valor_medicamento = float(input(\"Informe o valor do medicamento: R$ \"))\n",
        "idade = int(input(\"Informe a idade do cliente: \"))\n",
        "\n",
        "# Processamento\n",
        "if idade < 12:\n",
        "    desconto = 0.15\n",
        "elif 60 <= idade <= 75:\n",
        "    desconto = 0.20\n",
        "elif idade > 75:\n",
        "    desconto = 0.25\n",
        "else:\n",
        "    desconto = 0.0\n",
        "\n",
        "# Cálculo dos valores\n",
        "valor_desconto = valor_medicamento * desconto\n",
        "valor_final = valor_medicamento - valor_desconto\n",
        "\n",
        "# Saída dos resultados\n",
        "print(\"Valor do desconto: R$\", valor_desconto)\n",
        "print(\"Valor final a ser pago: R$\", valor_final)"
      ],
      "metadata": {
        "colab": {
          "base_uri": "https://localhost:8080/"
        },
        "id": "6Dvy3nyjzQFK",
        "outputId": "e33b407d-7b32-4bbb-a86f-8b934d942696"
      },
      "execution_count": 7,
      "outputs": [
        {
          "output_type": "stream",
          "name": "stdout",
          "text": [
            "Informe o valor do medicamento: R$ 200\n",
            "Informe a idade do cliente: 67\n",
            "Valor do desconto: R$ 40.0\n",
            "Valor final a ser pago: R$ 160.0\n"
          ]
        }
      ]
    }
  ]
}