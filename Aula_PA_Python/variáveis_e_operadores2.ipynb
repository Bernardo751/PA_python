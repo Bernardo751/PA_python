{
  "nbformat": 4,
  "nbformat_minor": 0,
  "metadata": {
    "colab": {
      "provenance": [],
      "authorship_tag": "ABX9TyNV+Nkh76n+iqOYJJbczevM",
      "include_colab_link": true
    },
    "kernelspec": {
      "name": "python3",
      "display_name": "Python 3"
    },
    "language_info": {
      "name": "python"
    }
  },
  "cells": [
    {
      "cell_type": "markdown",
      "metadata": {
        "id": "view-in-github",
        "colab_type": "text"
      },
      "source": [
        "<a href=\"https://colab.research.google.com/github/Bernardo751/PA_python/blob/main/Aula_PA_Python/vari%C3%A1veis_e_operadores2.ipynb\" target=\"_parent\"><img src=\"https://colab.research.google.com/assets/colab-badge.svg\" alt=\"Open In Colab\"/></a>"
      ]
    },
    {
      "cell_type": "code",
      "execution_count": 6,
      "metadata": {
        "colab": {
          "base_uri": "https://localhost:8080/"
        },
        "id": "p8Xi4OcMVRrf",
        "outputId": "db470afc-3b68-429d-8aeb-f53edfcb1306"
      },
      "outputs": [
        {
          "output_type": "stream",
          "name": "stdout",
          "text": [
            "qual é a primeira nota:9\n",
            "qual é a segunda nota:10\n",
            "9.5\n"
          ]
        }
      ],
      "source": [
        " nota1 = float(input(\"qual é a primeira nota:\"))\n",
        " nota2 = float(input(\"qual é a segunda nota:\"))\n",
        " soma1 = nota1 + nota2\n",
        " resultado = soma1 /2\n",
        " print(resultado)"
      ]
    },
    {
      "cell_type": "code",
      "source": [
        "celcius = float(input(\"qual é a temperatura do celcius:\"))\n",
        "resultado1 = celcius * 1.8\n",
        "fah = resultado1 + 32\n",
        "print(fah)"
      ],
      "metadata": {
        "colab": {
          "base_uri": "https://localhost:8080/"
        },
        "id": "-e6Py2aPbWth",
        "outputId": "aeb49d73-c823-499d-8a13-a8375e7bcfb9"
      },
      "execution_count": 11,
      "outputs": [
        {
          "output_type": "stream",
          "name": "stdout",
          "text": [
            "qual é a temperatura do celcius:28\n",
            "82.4\n"
          ]
        }
      ]
    },
    {
      "cell_type": "code",
      "source": [
        "fah = float(input(\"qual é a temperatura do fah\"))\n",
        "resultado2 = fah - 32\n",
        "celcius = resultado2 / 1.8\n",
        "print(celcius)"
      ],
      "metadata": {
        "colab": {
          "base_uri": "https://localhost:8080/"
        },
        "id": "6DBaAEx5d1_N",
        "outputId": "7d8ed714-64a6-4c40-952c-bebb075bd5f0"
      },
      "execution_count": 14,
      "outputs": [
        {
          "output_type": "stream",
          "name": "stdout",
          "text": [
            "qual é a temperatura do fah32\n",
            "0.0\n"
          ]
        }
      ]
    },
    {
      "cell_type": "code",
      "source": [
        "valor1 = float(input(\"qual é o valor da peça:\"))\n",
        "quantidade1 = int(input(\"qual é a quantidade:\"))\n",
        "resultado = valor1 * quantidade1\n",
        "print(resultado)\n"
      ],
      "metadata": {
        "colab": {
          "base_uri": "https://localhost:8080/"
        },
        "id": "l6hlcQR2e_6-",
        "outputId": "0df6d07e-2857-4f4e-e786-ded6a754ba4a"
      },
      "execution_count": 16,
      "outputs": [
        {
          "output_type": "stream",
          "name": "stdout",
          "text": [
            "qual é o valor da peça: 5\n",
            "qual é a quantidade: 3\n",
            "15.0\n"
          ]
        }
      ]
    }
  ]
}