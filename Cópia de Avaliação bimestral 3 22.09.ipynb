{
 "cells": [
  {
   "cell_type": "markdown",
   "metadata": {
    "id": "XpJAZxJGnsjo"
   },
   "source": [
    "Coloque seu nome aqui: Bernardo Antunes"
   ]
  },
  {
   "cell_type": "markdown",
   "metadata": {
    "id": "psR_IyuqtxJc"
   },
   "source": [
    "**Atividade Avaliativa **\n",
    "\n",
    "Enunciado:\n",
    "\n",
    "Crie um programa em Python para avaliar uma competição de bandas de música. O programa deve:\n",
    "\n",
    "Perguntar a quantidade de bandas participantes (mínimo 3).\n",
    "\n",
    "Perguntar o nome de cada banda.\n",
    "\n",
    "Para cada banda, receber as notas de 5 jurados (valores de 0 a 10).\n",
    "\n",
    "Calcular a média das notas de cada banda e armazenar o resultado em um dicionário, onde a chave será o nome da banda e o valor será a média das notas.\n",
    "\n",
    "Ao final, mostrar:\n",
    "\n",
    "A média de cada banda.\n",
    "\n",
    "O nome da banda vencedora (a que tiver maior média)."
   ]
  },
  {
   "cell_type": "code",
   "execution_count": 105,
   "metadata": {
    "id": "3v1htaJlrcvG"
   },
   "outputs": [
    {
     "name": "stdout",
     "output_type": "stream",
     "text": [
      "Quantas bandas vão participar? 3\n",
      "\n",
      "Nome da banda 1: Napoli\n",
      "Nota 1 (0-10): 3\n",
      "Nota 2 (0-10): 8\n",
      "Nota 3 (0-10): 9\n",
      "Nota 4 (0-10): 4\n",
      "Nota 5 (0-10): 6\n",
      "\n",
      "Nome da banda 2: Bandeirantes\n",
      "Nota 1 (0-10): 4\n",
      "Nota 2 (0-10): 6\n",
      "Nota 3 (0-10): 8\n",
      "Nota 4 (0-10): 9\n",
      "Nota 5 (0-10): 3\n",
      "\n",
      "Nome da banda 3: Oreas\n",
      "Nota 1 (0-10): 4\n",
      "Nota 2 (0-10): 3\n",
      "Nota 3 (0-10): 8\n",
      "Nota 4 (0-10): 6\n",
      "Nota 5 (0-10): 7\n",
      "\n",
      "----- Resultado ----\n",
      "\n",
      "Vencedora: Napoli\n",
      "\n",
      "Vencedora: Napoli\n",
      "\n",
      "Vencedora: Napoli\n"
     ]
    }
   ],
   "source": [
    "qtd = int(input(\"Quantas bandas vão participar? \"))\n",
    "\n",
    "while qtd < 3:\n",
    "    qtd = int(input(\"Digite novamente\"))\n",
    "    \n",
    "bandas = {}\n",
    "for i in range(qtd):\n",
    "    nome = input(f\"\\nNome da banda {i+1}: \")\n",
    "    notas = [float(input(f\"Nota {j+1} (0-10): \")) for j in range(5)]\n",
    "    bandas[nome] = sum(notas)/5\n",
    "    \n",
    "print(\"\\n----- Resultado ----\")\n",
    "for b, m in bandas.items():\n",
    "    print(f\"\\nVencedora: {max(bandas, key=bandas.get)}\")\n",
    "        \n"
   ]
  },
  {
   "cell_type": "markdown",
   "metadata": {
    "id": "fRV1N-Q4G7BK"
   },
   "source": [
    "Enunciado:\n",
    "\n",
    "Crie um programa que conte quantas vezes cada palavra aparece em uma frase.\n",
    "\n",
    "Pedir ao usuário para digitar uma frase\n",
    "\n",
    "Imprimir a palavra e quantas vezes ela aparece"
   ]
  },
  {
   "cell_type": "code",
   "execution_count": 106,
   "metadata": {
    "id": "HwK3-mVQHv8j"
   },
   "outputs": [
    {
     "name": "stdout",
     "output_type": "stream",
     "text": [
      "Digite uma frase: o sol a lua a terra o mar\n",
      "o aparece 2 vez\n",
      "sol aparece 1 vez\n",
      "a aparece 2 vez\n",
      "lua aparece 1 vez\n",
      "terra aparece 1 vez\n",
      "mar aparece 1 vez\n"
     ]
    }
   ],
   "source": [
    "frase = input(\"Digite uma frase: \")  \n",
    "\n",
    "palavras = frase.lower().split()\n",
    "\n",
    "contagem = {}\n",
    "\n",
    "for palavra in palavras:\n",
    "    if palavra not in contagem:\n",
    "        contagem[palavra] = 0\n",
    "    contagem[palavra] = contagem[palavra] + 1\n",
    "    \n",
    "for palavra in contagem:\n",
    "    print(palavra, \"aparece\", contagem[palavra], \"vez\")\n"
   ]
  },
  {
   "cell_type": "markdown",
   "metadata": {
    "id": "BKrOSqrOI2T5"
   },
   "source": [
    "Enunciado:\n",
    "\n",
    "Crie um programa em python que imprima números pares\n",
    "\n",
    "Pedir o usuário para digitar uma lista com mínimo 10 números\n",
    "\n",
    "Criar uma nova somente com numeros pares\n",
    "\n",
    "Imprimir números pares\n",
    "\n"
   ]
  },
  {
   "cell_type": "markdown",
   "metadata": {},
   "source": [
    " "
   ]
  },
  {
   "cell_type": "code",
   "execution_count": 108,
   "metadata": {},
   "outputs": [
    {
     "ename": "IndentationError",
     "evalue": "expected an indented block after 'while' statement on line 3 (1628285130.py, line 5)",
     "output_type": "error",
     "traceback": [
      "\u001b[1;36m  Cell \u001b[1;32mIn [108], line 5\u001b[1;36m\u001b[0m\n\u001b[1;33m    num = int(input(f\"Digite o {len(pares)+1}° número par: \"))\u001b[0m\n\u001b[1;37m    ^\u001b[0m\n\u001b[1;31mIndentationError\u001b[0m\u001b[1;31m:\u001b[0m expected an indented block after 'while' statement on line 3\n"
     ]
    }
   ],
   "source": [
    "pares = []\n",
    "\n",
    "while len(pares) < 10:\n",
    "    \n",
    "num = int(input(f\"Digite o {len(pares)+1}° número par: \"))\n",
    "\n",
    "    if num % 2 == 0:\n",
    "        \n",
    "        pares.append(num)\n",
    "    else:\n",
    "        print(\"Numero invalido! Digite apenas pares \")\n"
   ]
  },
  {
   "cell_type": "code",
   "execution_count": null,
   "metadata": {},
   "outputs": [],
   "source": []
  }
 ],
 "metadata": {
  "colab": {
   "authorship_tag": "ABX9TyMPfa4id0nMFHSWqcbBwSar",
   "provenance": [
    {
     "file_id": "1oEsagsr0AUsUTO9iGnea3JAW6NiCwqeB",
     "timestamp": 1758547990346
    },
    {
     "file_id": "1LADCxzYvBqiYFcjSgL_Z5bblVMBbsfJg",
     "timestamp": 1757516692807
    }
   ]
  },
  "kernelspec": {
   "display_name": "Python 3 (ipykernel)",
   "language": "python",
   "name": "python3"
  },
  "language_info": {
   "codemirror_mode": {
    "name": "ipython",
    "version": 3
   },
   "file_extension": ".py",
   "mimetype": "text/x-python",
   "name": "python",
   "nbconvert_exporter": "python",
   "pygments_lexer": "ipython3",
   "version": "3.10.7"
  }
 },
 "nbformat": 4,
 "nbformat_minor": 1
}
