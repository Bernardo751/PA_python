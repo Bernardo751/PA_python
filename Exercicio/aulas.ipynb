{
  "nbformat": 4,
  "nbformat_minor": 0,
  "metadata": {
    "colab": {
      "provenance": [],
      "authorship_tag": "ABX9TyORU3EDVHPKWK55GREdshHY",
      "include_colab_link": true
    },
    "kernelspec": {
      "name": "python3",
      "display_name": "Python 3"
    },
    "language_info": {
      "name": "python"
    }
  },
  "cells": [
    {
      "cell_type": "markdown",
      "metadata": {
        "id": "view-in-github",
        "colab_type": "text"
      },
      "source": [
        "<a href=\"https://colab.research.google.com/github/Bernardo751/PA_python/blob/main/Exercicio/aulas.ipynb\" target=\"_parent\"><img src=\"https://colab.research.google.com/assets/colab-badge.svg\" alt=\"Open In Colab\"/></a>"
      ]
    },
    {
      "cell_type": "code",
      "execution_count": 1,
      "metadata": {
        "colab": {
          "base_uri": "https://localhost:8080/"
        },
        "id": "qOQC7Lnhehks",
        "outputId": "c297a54e-7d1a-4e87-f518-7e6e6d9950ee"
      },
      "outputs": [
        {
          "output_type": "stream",
          "name": "stdout",
          "text": [
            "Digite o valor do carro:25000\n",
            "O valor do carro é: 46400.0\n"
          ]
        }
      ],
      "source": [
        "##Entrada\n",
        "valorcarro = float(input(\"Digite o valor do carro:\"))\n",
        "##Processamento\n",
        "imposto = (valorcarro * 45/100) + valorcarro\n",
        "distribuição = (imposto * 28/100) + imposto\n",
        "##Saida\n",
        "print(\"O valor do carro é:\", distribuição )"
      ]
    }
  ]
}