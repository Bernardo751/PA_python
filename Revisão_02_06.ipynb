{
  "nbformat": 4,
  "nbformat_minor": 0,
  "metadata": {
    "colab": {
      "provenance": [],
      "authorship_tag": "ABX9TyOhNzWioqZBfXfCHOS0MkH4",
      "include_colab_link": true
    },
    "kernelspec": {
      "name": "python3",
      "display_name": "Python 3"
    },
    "language_info": {
      "name": "python"
    }
  },
  "cells": [
    {
      "cell_type": "markdown",
      "metadata": {
        "id": "view-in-github",
        "colab_type": "text"
      },
      "source": [
        "<a href=\"https://colab.research.google.com/github/Bernardo751/PA_python/blob/main/Revis%C3%A3o_02_06.ipynb\" target=\"_parent\"><img src=\"https://colab.research.google.com/assets/colab-badge.svg\" alt=\"Open In Colab\"/></a>"
      ]
    },
    {
      "cell_type": "code",
      "execution_count": 1,
      "metadata": {
        "colab": {
          "base_uri": "https://localhost:8080/"
        },
        "id": "QlUPsfhsKU7r",
        "outputId": "9aa98d6c-dbde-440a-f275-3296ce5b42f7"
      },
      "outputs": [
        {
          "output_type": "stream",
          "name": "stdout",
          "text": [
            "Digite um número: 10\n",
            "O número é positivo.\n"
          ]
        }
      ],
      "source": [
        "numero = float(input(\"Digite um número: \"))\n",
        "\n",
        "if numero > 0:\n",
        "    print(\"O número é positivo.\")\n",
        "elif numero < 0:\n",
        "    print(\"O número é negativo.\")\n",
        "else:\n",
        "    print(\"O número é zero.\")"
      ]
    },
    {
      "cell_type": "code",
      "source": [
        "numero = int(input(\"Digite um número inteiro: \"))\n",
        "\n",
        "if numero % 2 == 0:\n",
        "    print(\"O número é par.\")\n",
        "else:\n",
        "    print(\"O número é ímpar.\")"
      ],
      "metadata": {
        "colab": {
          "base_uri": "https://localhost:8080/"
        },
        "id": "-39LS0xaLoqq",
        "outputId": "b64dc5e8-17aa-4287-f628-34971dbe709f"
      },
      "execution_count": 2,
      "outputs": [
        {
          "output_type": "stream",
          "name": "stdout",
          "text": [
            "Digite um número inteiro: 5\n",
            "O número é ímpar.\n"
          ]
        }
      ]
    },
    {
      "cell_type": "code",
      "source": [
        "idade = int(input(\"Digite sua idade: \"))\n",
        "\n",
        "if idade >= 18:\n",
        "    print(\"Você é maior de idade.\")\n",
        "else:\n",
        "    print(\"Você é menor de idade.\")"
      ],
      "metadata": {
        "colab": {
          "base_uri": "https://localhost:8080/"
        },
        "id": "F80H5AQ0Ltqd",
        "outputId": "c099b52d-dbc4-4327-824e-922d5ec35e12"
      },
      "execution_count": 3,
      "outputs": [
        {
          "output_type": "stream",
          "name": "stdout",
          "text": [
            "Digite sua idade: 15\n",
            "Você é menor de idade.\n"
          ]
        }
      ]
    },
    {
      "cell_type": "code",
      "source": [
        "Senha = int(input(\"Digite a senha: \"))\n",
        "\n",
        "if Senha == 1234:\n",
        "    print(\"Acesso permitido.\")\n",
        "else:\n",
        "    print(\"Acesso negado.\")"
      ],
      "metadata": {
        "colab": {
          "base_uri": "https://localhost:8080/"
        },
        "id": "yCcfEHMOLyDS",
        "outputId": "e945ea1f-b199-429f-c3e0-9b6c4076b678"
      },
      "execution_count": 5,
      "outputs": [
        {
          "output_type": "stream",
          "name": "stdout",
          "text": [
            "Digite a senha: 1234\n",
            "Acesso permitido.\n"
          ]
        }
      ]
    },
    {
      "cell_type": "code",
      "source": [
        "Nota = float(input(\"Digite a nota do aluno de 0 a 10: \"))\n",
        "\n",
        "if Nota >= 6:\n",
        "    print(\"Aprovado.\")\n",
        "elif Nota >= 5:\n",
        "    print(\"Recuperação.\")\n",
        "else:\n",
        "    print(\"Reprovado.\")"
      ],
      "metadata": {
        "colab": {
          "base_uri": "https://localhost:8080/"
        },
        "id": "j-N2dFfHMGiF",
        "outputId": "bd832ac3-8102-41cb-d071-461e4fa1f249"
      },
      "execution_count": 8,
      "outputs": [
        {
          "output_type": "stream",
          "name": "stdout",
          "text": [
            "Digite a nota do aluno de 0 a 10: 8\n",
            "Aprovado.\n"
          ]
        }
      ]
    },
    {
      "cell_type": "code",
      "source": [
        "numero = int(input(\"Digite um número: \"))\n",
        "\n",
        "if numero % 3 == 0 and numero % 5 == 0:\n",
        "    print(\"É múltiplo de 3 e 5.\")\n",
        "elif numero % 3 == 0:\n",
        "    print(\"É múltiplo de 3.\")\n",
        "elif numero % 5 == 0:\n",
        "    print(\"É múltiplo de 5.\")\n",
        "else:\n",
        "    print(\"Não é múltiplo de 3 nem de 5.\")"
      ],
      "metadata": {
        "colab": {
          "base_uri": "https://localhost:8080/"
        },
        "id": "OiorGPplMsRq",
        "outputId": "ffa06ba4-3c08-4cc8-e3cd-78fa3b691738"
      },
      "execution_count": 15,
      "outputs": [
        {
          "output_type": "stream",
          "name": "stdout",
          "text": [
            "Digite um número: 30\n",
            "É múltiplo de 3 e 5.\n"
          ]
        }
      ]
    },
    {
      "cell_type": "code",
      "source": [
        "numero = int(input(\"Digite um número: \"))\n",
        "\n",
        "if 10 <= numero <= 20:\n",
        "    print(\"O número está dentro do intervalo entre 10 e 20.\")\n",
        "else:\n",
        "    print(\"O número está fora do intervalo entre 10 e 20.\")"
      ],
      "metadata": {
        "colab": {
          "base_uri": "https://localhost:8080/"
        },
        "id": "aTCVU9xYM8YF",
        "outputId": "eaee6bec-df27-4d3b-baf2-2e07e03e12a6"
      },
      "execution_count": 13,
      "outputs": [
        {
          "output_type": "stream",
          "name": "stdout",
          "text": [
            "Digite um número: 19\n",
            "O número está dentro do intervalo entre 10 e 20.\n"
          ]
        }
      ]
    },
    {
      "cell_type": "code",
      "source": [
        "lado1 = float(input(\"Digite o primeiro lado do triângulo: \"))\n",
        "lado2 = float(input(\"Digite o segundo lado do triângulo: \"))\n",
        "lado3 = float(input(\"Digite o terceiro lado do triângulo: \"))\n",
        "\n",
        "if (lado1 + lado2 > lado3) and (lado1 + lado3 > lado2) and (lado2 + lado3 > lado1):\n",
        "    if lado1 == lado2 == lado3:\n",
        "        print(\"Triângulo Equilátero.\")\n",
        "    elif lado1 == lado2 or lado1 == lado3 or lado2 == lado3:\n",
        "        print(\"Triângulo Isósceles.\")\n",
        "    else:\n",
        "        print(\"Triângulo Escaleno.\")\n",
        "else:\n",
        "    print(\"Não é possível formar um triângulo.\")\n"
      ],
      "metadata": {
        "colab": {
          "base_uri": "https://localhost:8080/"
        },
        "id": "OhLW1SmYNNHe",
        "outputId": "94002f34-6841-4863-8891-272b80174494"
      },
      "execution_count": 14,
      "outputs": [
        {
          "output_type": "stream",
          "name": "stdout",
          "text": [
            "Digite o primeiro lado do triângulo: 3\n",
            "Digite o segundo lado do triângulo: 2\n",
            "Digite o terceiro lado do triângulo: 5\n",
            "Não é possível formar um triângulo.\n"
          ]
        }
      ]
    }
  ]
}