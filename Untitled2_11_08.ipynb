{
  "nbformat": 4,
  "nbformat_minor": 0,
  "metadata": {
    "colab": {
      "provenance": [],
      "authorship_tag": "ABX9TyM0Uf3mHR2A7jxJxJn3xYds",
      "include_colab_link": true
    },
    "kernelspec": {
      "name": "python3",
      "display_name": "Python 3"
    },
    "language_info": {
      "name": "python"
    }
  },
  "cells": [
    {
      "cell_type": "markdown",
      "metadata": {
        "id": "view-in-github",
        "colab_type": "text"
      },
      "source": [
        "<a href=\"https://colab.research.google.com/github/Bernardo751/PA_python/blob/main/Untitled2_11_08.ipynb\" target=\"_parent\"><img src=\"https://colab.research.google.com/assets/colab-badge.svg\" alt=\"Open In Colab\"/></a>"
      ]
    },
    {
      "cell_type": "markdown",
      "source": [
        "Bernardo Antunes de Queiroz"
      ],
      "metadata": {
        "id": "it__ymmHW-53"
      }
    },
    {
      "cell_type": "markdown",
      "source": [
        "Turma: Manhã"
      ],
      "metadata": {
        "id": "SiP1rZc7XzlY"
      }
    },
    {
      "cell_type": "markdown",
      "source": [
        "Exercícios com todos os conteúdos aplicados até o momento.\n"
      ],
      "metadata": {
        "id": "IKDaSRh1XKVR"
      }
    },
    {
      "cell_type": "code",
      "source": [
        "# Exercício 1 inserir os seus dados acima em variáveis\n",
        "#Exemplo\n",
        "nome = \"Bernardo Antunes\"\n",
        "Turma = \"Manhã\""
      ],
      "metadata": {
        "id": "mcAw6cwoarNb"
      },
      "execution_count": 4,
      "outputs": []
    },
    {
      "cell_type": "code",
      "source": [
        "# Exercicio 2\n",
        "print(nome[8::])"
      ],
      "metadata": {
        "colab": {
          "base_uri": "https://localhost:8080/"
        },
        "id": "F3CWD0FcatIY",
        "outputId": "27f126c8-41c8-490f-cb77-34e4c5b4621a"
      },
      "execution_count": 5,
      "outputs": [
        {
          "output_type": "stream",
          "name": "stdout",
          "text": [
            " Antunes\n"
          ]
        }
      ]
    },
    {
      "cell_type": "code",
      "source": [
        "# Exercicio 3\n",
        "print(nome[::-1])\n"
      ],
      "metadata": {
        "colab": {
          "base_uri": "https://localhost:8080/"
        },
        "id": "LvoCqfpGaMXE",
        "outputId": "02ac41bf-acea-4aae-cd00-2a28e61adfd3"
      },
      "execution_count": 7,
      "outputs": [
        {
          "output_type": "stream",
          "name": "stdout",
          "text": [
            "senutnA odranreB\n"
          ]
        }
      ]
    },
    {
      "cell_type": "code",
      "source": [
        "# Exercício 4 - pegue a frase abaixo, aplique o split para fazer uma quebra toda vez que encontrar uma \",\"\n",
        "frase = \"Python é a linguagem ideal para o primeiro contato com programação, além da sua sintaxe simples e muito poderosa, Python tem diversas aplicações como: desenvolvimento web, análise de dados, inteligência artificial e automatização de tarefas, neste curso você aprenderá a lógica de programação para conquistar fluência na linguagem, a comunidade Python é a que mais cresce, assim como sua demanda de profissionais no mercado.\"\n",
        "frase.split(',')"
      ],
      "metadata": {
        "colab": {
          "base_uri": "https://localhost:8080/"
        },
        "id": "Zwmcmz8UbZap",
        "outputId": "5190a29f-fb6b-4d2f-85b5-a74aff51f15b"
      },
      "execution_count": 8,
      "outputs": [
        {
          "output_type": "execute_result",
          "data": {
            "text/plain": [
              "['Python é a linguagem ideal para o primeiro contato com programação',\n",
              " ' além da sua sintaxe simples e muito poderosa',\n",
              " ' Python tem diversas aplicações como: desenvolvimento web',\n",
              " ' análise de dados',\n",
              " ' inteligência artificial e automatização de tarefas',\n",
              " ' neste curso você aprenderá a lógica de programação para conquistar fluência na linguagem',\n",
              " ' a comunidade Python é a que mais cresce',\n",
              " ' assim como sua demanda de profissionais no mercado.']"
            ]
          },
          "metadata": {},
          "execution_count": 8
        }
      ]
    },
    {
      "cell_type": "code",
      "source": [
        "# 5\n",
        "for i in range (1,11):\n",
        " print(i)\n"
      ],
      "metadata": {
        "colab": {
          "base_uri": "https://localhost:8080/"
        },
        "id": "azk67A9Db_YC",
        "outputId": "29631a69-44f9-4ff2-c0bc-0dbe389422c8"
      },
      "execution_count": 13,
      "outputs": [
        {
          "output_type": "stream",
          "name": "stdout",
          "text": [
            "1\n",
            "2\n",
            "3\n",
            "4\n",
            "5\n",
            "6\n",
            "7\n",
            "8\n",
            "9\n",
            "10\n"
          ]
        }
      ]
    },
    {
      "cell_type": "code",
      "source": [
        "# 6\n",
        "objetos = [\"tesoura\", \"lapis\", \"borracha\", \"caneta\", \"lapiseira\"]\n"
      ],
      "metadata": {
        "id": "imF2b8pDcbiy"
      },
      "execution_count": 16,
      "outputs": []
    },
    {
      "cell_type": "code",
      "source": [
        "print(objetos)"
      ],
      "metadata": {
        "colab": {
          "base_uri": "https://localhost:8080/"
        },
        "id": "kdkZgVCTdBd4",
        "outputId": "ab8c4046-fe13-4f26-a9e1-94819510eae7"
      },
      "execution_count": 18,
      "outputs": [
        {
          "output_type": "stream",
          "name": "stdout",
          "text": [
            "['tesoura', 'lapis', 'borracha', 'caneta', 'lapiseira']\n"
          ]
        }
      ]
    },
    {
      "cell_type": "code",
      "source": [
        "# Exercício 7 - - Crie duas strings e concatene as duas em uma terceira string\n",
        "a = \"Bernardo \"\n",
        "b = \"Antunes\"\n",
        "c = a + b\n",
        "print(c)"
      ],
      "metadata": {
        "colab": {
          "base_uri": "https://localhost:8080/"
        },
        "id": "_DPiwdI1dIaO",
        "outputId": "f9df81ec-2b54-4d5b-e542-eb7892da78e4"
      },
      "execution_count": 20,
      "outputs": [
        {
          "output_type": "stream",
          "name": "stdout",
          "text": [
            "Bernardo Antunes\n"
          ]
        }
      ]
    },
    {
      "cell_type": "code",
      "source": [
        "# Exercicio 8\n",
        "tupla = (1, 2, 2, 3, 4, 4, 4, 4, 4, 4, 4, 5)\n",
        "\n",
        "\n",
        "contagem_4 = tupla.count(4)\n",
        "\n",
        "\n",
        "print(f'O número 4 aparece {contagem_4} vezes na tupla.')"
      ],
      "metadata": {
        "colab": {
          "base_uri": "https://localhost:8080/"
        },
        "id": "HLsDvL8Od0Qr",
        "outputId": "925592d1-1ec9-4ac3-d209-6e2da6c737e9"
      },
      "execution_count": 26,
      "outputs": [
        {
          "output_type": "stream",
          "name": "stdout",
          "text": [
            "O número 4 aparece 7 vezes na tupla.\n"
          ]
        }
      ]
    },
    {
      "cell_type": "code",
      "source": [
        "# 1 - Use o método len para imprimir o comprimento da string.\n",
        "x = \"Hello World\"\n",
        "print(len(x))"
      ],
      "metadata": {
        "colab": {
          "base_uri": "https://localhost:8080/"
        },
        "id": "75kgugO2eleg",
        "outputId": "eb027e86-a69f-4558-cc76-9cd78ecde0f1"
      },
      "execution_count": 27,
      "outputs": [
        {
          "output_type": "stream",
          "name": "stdout",
          "text": [
            "11\n"
          ]
        }
      ]
    },
    {
      "cell_type": "code",
      "source": [
        "# 2 - Obtenha o primeiro caractere da string txt.\n",
        "txt = \"Hello World\"\n",
        "x = txt[0]\n",
        "print(x)"
      ],
      "metadata": {
        "colab": {
          "base_uri": "https://localhost:8080/"
        },
        "id": "UrU16XrLhZL8",
        "outputId": "5f3b7e74-4d09-4c5f-e881-c094cc18dfa2"
      },
      "execution_count": 28,
      "outputs": [
        {
          "output_type": "stream",
          "name": "stdout",
          "text": [
            "H\n"
          ]
        }
      ]
    },
    {
      "cell_type": "code",
      "source": [
        "# 3 - Obtenha os caracteres do índice 2 ao índice 4 ( llo).\n",
        "txt = \"Hello World\"\n",
        "x = txt[2:5]\n",
        "print(x)"
      ],
      "metadata": {
        "colab": {
          "base_uri": "https://localhost:8080/"
        },
        "id": "nj6HBv27hpSD",
        "outputId": "ca9eba9d-9514-45fb-8454-67ebc7948ae8"
      },
      "execution_count": 29,
      "outputs": [
        {
          "output_type": "stream",
          "name": "stdout",
          "text": [
            "llo\n"
          ]
        }
      ]
    },
    {
      "cell_type": "code",
      "source": [
        "# 4 - Converta o valor de txt para maiúsculas.\n",
        "txt = \"Hello World\"\n",
        "txt = txt.upper()\n",
        "print(txt)"
      ],
      "metadata": {
        "colab": {
          "base_uri": "https://localhost:8080/"
        },
        "id": "F1Q3Ipf9iGYz",
        "outputId": "9bed3cfa-f3d7-4b4a-a600-cb1cb71f6163"
      },
      "execution_count": 30,
      "outputs": [
        {
          "output_type": "stream",
          "name": "stdout",
          "text": [
            "HELLO WORLD\n"
          ]
        }
      ]
    },
    {
      "cell_type": "code",
      "source": [
        "# - Conte quantas vezes aparece a palavra \"de\" na string abaixo\n",
        "txt = \"Eu gosto de vijar, tomar vinho, de estudar estudar programação, de estudar Pyhon\"\n",
        "count_de = txt.count(\"de\")\n",
        "print(count_de)"
      ],
      "metadata": {
        "colab": {
          "base_uri": "https://localhost:8080/"
        },
        "id": "Z5F-1jJdib8a",
        "outputId": "5ce82391-00d3-4464-b81b-23b730ee1980"
      },
      "execution_count": 31,
      "outputs": [
        {
          "output_type": "stream",
          "name": "stdout",
          "text": [
            "3\n"
          ]
        }
      ]
    },
    {
      "cell_type": "code",
      "source": [
        "# - Separe a frase abaixo toda vez que encontrar um vírgula.\n",
        "txt = \"Eu gosto de vijar, tomar vinho, de estudar estudar programação, de estudar Pyhon\"\n",
        "separada = txt.split(\",\")\n",
        "print(separada)"
      ],
      "metadata": {
        "colab": {
          "base_uri": "https://localhost:8080/"
        },
        "id": "q1xFFFZjisXr",
        "outputId": "847dd92e-2119-4151-90d1-be3496180ff5"
      },
      "execution_count": 32,
      "outputs": [
        {
          "output_type": "stream",
          "name": "stdout",
          "text": [
            "['Eu gosto de vijar', ' tomar vinho', ' de estudar estudar programação', ' de estudar Pyhon']\n"
          ]
        }
      ]
    },
    {
      "cell_type": "code",
      "source": [
        "# Exercício 9 - Crie um dicionário vazio e imprima na tela\n",
        "meudicionário = {\n",
        "\n",
        "}"
      ],
      "metadata": {
        "id": "04CMnT_kk2rG"
      },
      "execution_count": 39,
      "outputs": []
    },
    {
      "cell_type": "code",
      "source": [
        "# Criando o dicionário\n",
        "dicionario = {\n",
        "    \"nome\": \"Bernardo\",\n",
        "    \"idade\": 15,\n",
        "    \"cidade\": \"São Paulo\"\n",
        "}\n",
        "\n",
        "# Imprimindo o dicionário\n",
        "print(dicionario)"
      ],
      "metadata": {
        "colab": {
          "base_uri": "https://localhost:8080/"
        },
        "id": "FJ4SDm9-lMfF",
        "outputId": "e32d4e9e-6aaf-4327-db34-af4d15d8e09d"
      },
      "execution_count": 40,
      "outputs": [
        {
          "output_type": "stream",
          "name": "stdout",
          "text": [
            "{'nome': 'Bernardo', 'idade': 15, 'cidade': 'São Paulo'}\n"
          ]
        }
      ]
    },
    {
      "cell_type": "code",
      "source": [
        "# Exercício 11 - Adicione mais um elemento ao dicionário criado no exercício anterior e imprima na tela\n",
        "# Criando o dicionário\n",
        "dicionario = {\n",
        "    \"nome\": \"Bernardo\",\n",
        "    \"idade\": 30,\n",
        "    \"cidade\": \"São Paulo\",\n",
        "    \"notas\": [8.5, 9.0]\n",
        "\n",
        "}\n",
        "\n",
        "# Imprimindo o dicionário\n",
        "print(dicionario)"
      ],
      "metadata": {
        "colab": {
          "base_uri": "https://localhost:8080/"
        },
        "id": "vmNW8j6alc4S",
        "outputId": "f73b7eb3-48b9-41d7-ec01-b3aa5a3e0292"
      },
      "execution_count": 42,
      "outputs": [
        {
          "output_type": "stream",
          "name": "stdout",
          "text": [
            "{'nome': 'Bernardo', 'idade': 30, 'cidade': 'São Paulo', 'notas': [8.5, 9.0]}\n"
          ]
        }
      ]
    },
    {
      "cell_type": "code",
      "source": [
        "# Exercício 13 - Crie uma lista de 4 elementos. O primeiro elemento deve ser uma string,\n",
        "# o segundo uma tupla de 2 elementos, o terceiro um dcionário com 2 chaves e 2 valores e\n",
        "# o quarto elemento um valor do tipo float.\n",
        "# Imprima a lista na tela.\n",
        "\n",
        "# Criando a lista\n",
        "minha_lista = [\n",
        "    \"Olá\",\n",
        "    (10, 20),\n",
        "    {\"nome\": \"Carlos\", \"idade\": 40},\n",
        "    3.14\n",
        "]\n",
        "\n",
        "# Imprimindo a lista\n",
        "print(minha_lista)"
      ],
      "metadata": {
        "colab": {
          "base_uri": "https://localhost:8080/"
        },
        "id": "aYbPP3rUmaUh",
        "outputId": "f3ee13f5-e579-44bb-9c77-1150070c99f2"
      },
      "execution_count": 43,
      "outputs": [
        {
          "output_type": "stream",
          "name": "stdout",
          "text": [
            "['Olá', (10, 20), {'nome': 'Carlos', 'idade': 40}, 3.14]\n"
          ]
        }
      ]
    },
    {
      "cell_type": "code",
      "source": [
        "# Exercício 14 - Considere a string abaixo. Imprima na tela apenas os caracteres da posição 1 a 18.\n",
        "frase = 'Cientista de Dados é o profissional mais legal do século XXI'\n",
        "# Definindo a string\n",
        "frase = ' Cientista de Dados é o profissional mais legal do século XXI'\n",
        "\n",
        "# Imprimindo os caracteres da posição 1 a 18\n",
        "print(frase[1:18])"
      ],
      "metadata": {
        "colab": {
          "base_uri": "https://localhost:8080/"
        },
        "id": "PEHngN3fm9MS",
        "outputId": "287a0b0d-c5e1-4400-df23-34c583e8a635"
      },
      "execution_count": 49,
      "outputs": [
        {
          "output_type": "stream",
          "name": "stdout",
          "text": [
            "Cientista de Dado\n"
          ]
        }
      ]
    }
  ]
}