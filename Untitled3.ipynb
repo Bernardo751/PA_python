{
  "nbformat": 4,
  "nbformat_minor": 0,
  "metadata": {
    "colab": {
      "provenance": [],
      "authorship_tag": "ABX9TyOy1ZH0nkppbbIHa89gbW5y",
      "include_colab_link": true
    },
    "kernelspec": {
      "name": "python3",
      "display_name": "Python 3"
    },
    "language_info": {
      "name": "python"
    }
  },
  "cells": [
    {
      "cell_type": "markdown",
      "metadata": {
        "id": "view-in-github",
        "colab_type": "text"
      },
      "source": [
        "<a href=\"https://colab.research.google.com/github/Bernardo751/PA_python/blob/main/Untitled3.ipynb\" target=\"_parent\"><img src=\"https://colab.research.google.com/assets/colab-badge.svg\" alt=\"Open In Colab\"/></a>"
      ]
    },
    {
      "cell_type": "markdown",
      "source": [
        "1 -Numeros pares e impares em uma lista:\n",
        "\n",
        "* O Usuário digita  uma sequência de numeros separados por espaço.\n",
        "\n",
        "* O programa transforma em lista de inteiros.\n",
        "\n",
        "* Usando for, deve contar quantos são pares e quantos são impares."
      ],
      "metadata": {
        "id": "KkqY2eYTtvG-"
      }
    },
    {
      "cell_type": "code",
      "source": [
        "\n",
        "entrada = input(\"Digite uma sequência de números separados por espaço: \")\n",
        "\n",
        "# Transformar a string em uma lista de inteiros\n",
        "numeros = list(map(int, entrada.split()))\n",
        "\n",
        "pares = 0\n",
        "impares = 0\n",
        "\n",
        "# Loop para contar todos oss pares e impares\n",
        "for numero in numeros:\n",
        "    if numero % 2 == 0:\n",
        "        pares += 1\n",
        "    else:\n",
        "        impares += 1\n",
        "\n",
        "print(f\"Quantidade de números pares: {pares}\")\n",
        "print(f\"Quantidade de números impares: {impares}\")\n"
      ],
      "metadata": {
        "colab": {
          "base_uri": "https://localhost:8080/"
        },
        "id": "IS-y2-nwu6LR",
        "outputId": "9303cca9-7412-4b5b-d855-ad5d6cb30a1f"
      },
      "execution_count": 4,
      "outputs": [
        {
          "output_type": "stream",
          "name": "stdout",
          "text": [
            "Digite uma sequência de números separados por espaço: 2 3 546 75 235 23456 12098\n",
            "Quantidade de números pares: 4\n",
            "Quantidade de números impares: 3\n"
          ]
        }
      ]
    },
    {
      "cell_type": "markdown",
      "source": [
        "2 -Adivinhar um número secreto:\n",
        "\n",
        " * O programa escolhe um número secreto (ex: 1 a 20)\n",
        " * O usuário tenta adivinhar.\n",
        " * Enquanto não acertar, o pprograma dá dicas (\"Maior\" ou \"menor\")\n",
        " * Quando acertar, o loop acaba.\n",
        " Dica para número aleatório:\n",
        " import random\n",
        " secreto =random.randint(1,20) tentativa = None"
      ],
      "metadata": {
        "id": "CxwIihOEuaDJ"
      }
    },
    {
      "cell_type": "code",
      "source": [
        "import random\n",
        "\n",
        "# O meu código escolhe um número secreto de 1 a 20\n",
        "secreto = random.randint(1, 20)\n",
        "tentativa = None\n",
        "tentativas_feitas = 0\n",
        "\n",
        "print(\"Adivinhe o número secreto entre 1 e 20!\")\n",
        "\n",
        "# Loop até o usuário acertar (Ele não acaba enquanto a pessoa não acertar)\n",
        "while tentativa != secreto:\n",
        "    try:\n",
        "        tentativa = int(input(\"Digite seu palpite: \"))\n",
        "        tentativas_feitas += 1\n",
        "\n",
        "        if tentativa < secreto:\n",
        "            print(\"Maior!\")\n",
        "        elif tentativa > secreto:\n",
        "            print(\"Menor!\")\n",
        "        else:\n",
        "            print(f\"Acertou! O número era {secreto}.\")\n",
        "            print(f\"Você precisou de {tentativas_feitas} tentativa(s).\")\n",
        "    except ValueError:\n",
        "        print(\"Digita um número inteiro aí, vai!\")\n"
      ],
      "metadata": {
        "colab": {
          "base_uri": "https://localhost:8080/"
        },
        "id": "tsxaLIxlxXyv",
        "outputId": "c78e1ddf-bbc3-4f3d-cae3-a2492d9949e5"
      },
      "execution_count": 5,
      "outputs": [
        {
          "output_type": "stream",
          "name": "stdout",
          "text": [
            "Adivinhe o número secreto entre 1 e 20!\n",
            "Digite seu palpite: 13\n",
            "Maior!\n",
            "Digite seu palpite: 17\n",
            "Menor!\n",
            "Digite seu palpite: 15\n",
            "Menor!\n",
            "Digite seu palpite: 1111111111111111111111111111111111111111\n",
            "Menor!\n",
            "Digite seu palpite: 14\n",
            "Acertou! O número era 14.\n",
            "Você precisou de 5 tentativa(s).\n"
          ]
        }
      ]
    },
    {
      "cell_type": "markdown",
      "source": [
        "3 - Contar vogais em várias palavras\n",
        "\n",
        "* O usuário digita uma lista de palavras ( separadas por espaço)\n",
        "* O programa deve percorrer por cada palavra usando um For\n",
        " * Contar quantas vogais tem em cada palavras\n",
        " * No final deve mostrar quantas vogais cada palavra tem\n",
        "\n"
      ],
      "metadata": {
        "id": "mLwUlTLYyzs9"
      }
    },
    {
      "cell_type": "code",
      "source": [
        "# Exercicio importante\n",
        "\n",
        "# Entrada\n",
        "entrada = input(\"Digite uma lista de palavras separadas por espaço Para o programa te dizer quantas vogais tem nas mesmas: \")\n",
        "\n",
        "# Divide a entrada em palavras\n",
        "palavras = entrada.split()\n",
        "\n",
        "# Define as vogais\n",
        "vogais = 'aeiouAEIOU'\n",
        "\n",
        "# Olha cada palavra\n",
        "for palavra in palavras:\n",
        "    contador = 0\n",
        "    # Analisa todas asletras da palavra\n",
        "    for letra in palavra:\n",
        "        if letra in vogais:\n",
        "            contador += 1\n",
        "\n",
        "    print(f\"A palavra '{palavra}' tem {contador} vogais).\")\n"
      ],
      "metadata": {
        "colab": {
          "base_uri": "https://localhost:8080/"
        },
        "id": "9Sdzow4C1IY5",
        "outputId": "2c6b6fa5-2a02-4d5a-8377-e62da2ba62cb"
      },
      "execution_count": 7,
      "outputs": [
        {
          "output_type": "stream",
          "name": "stdout",
          "text": [
            "Digite uma lista de palavras separadas por espaço Para o programa te dizer quantas vogais tem nas mesmas: Anilha FAlta Presença Avaliação Paralelepipedo\n",
            "A palavra 'Anilha' tem 3 vogais).\n",
            "A palavra 'FAlta' tem 2 vogais).\n",
            "A palavra 'Presença' tem 3 vogais).\n",
            "A palavra 'Avaliação' tem 5 vogais).\n",
            "A palavra 'Paralelepipedo' tem 7 vogais).\n"
          ]
        }
      ]
    },
    {
      "cell_type": "markdown",
      "source": [],
      "metadata": {
        "id": "QnCmMaeq2qA9"
      }
    }
  ]
}