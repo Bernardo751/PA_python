{
  "nbformat": 4,
  "nbformat_minor": 0,
  "metadata": {
    "colab": {
      "provenance": [],
      "authorship_tag": "ABX9TyNGW63tMJRvRN5YzILyxQ6d",
      "include_colab_link": true
    },
    "kernelspec": {
      "name": "python3",
      "display_name": "Python 3"
    },
    "language_info": {
      "name": "python"
    }
  },
  "cells": [
    {
      "cell_type": "markdown",
      "metadata": {
        "id": "view-in-github",
        "colab_type": "text"
      },
      "source": [
        "<a href=\"https://colab.research.google.com/github/Bernardo751/PA_python/blob/main/atividade_dia_23_06.ipynb\" target=\"_parent\"><img src=\"https://colab.research.google.com/assets/colab-badge.svg\" alt=\"Open In Colab\"/></a>"
      ]
    },
    {
      "cell_type": "code",
      "source": [
        "nomes = [\"Kauã\", \"Bernardo\", \"Artur\"]"
      ],
      "metadata": {
        "id": "dW4S_Q28EQ2d"
      },
      "execution_count": 1,
      "outputs": []
    },
    {
      "cell_type": "code",
      "source": [
        "print (nomes)"
      ],
      "metadata": {
        "colab": {
          "base_uri": "https://localhost:8080/",
          "height": 0
        },
        "id": "4_7BdI11E4R0",
        "outputId": "34dc176a-8893-4cc2-b77f-549eeca4dfac"
      },
      "execution_count": 2,
      "outputs": [
        {
          "output_type": "stream",
          "name": "stdout",
          "text": [
            "['Kauã', 'Bernardo', 'Artur']\n"
          ]
        }
      ]
    },
    {
      "cell_type": "code",
      "source": [
        "nomes.append(\"Adriana\")"
      ],
      "metadata": {
        "id": "0XbqjlXCE9Ej"
      },
      "execution_count": 3,
      "outputs": []
    },
    {
      "cell_type": "code",
      "source": [
        "print (nomes)"
      ],
      "metadata": {
        "colab": {
          "base_uri": "https://localhost:8080/",
          "height": 0
        },
        "id": "dxH6WAWRFU3c",
        "outputId": "44d1ac98-b6ef-4c7e-d5a0-fb316a6a1124"
      },
      "execution_count": 5,
      "outputs": [
        {
          "output_type": "stream",
          "name": "stdout",
          "text": [
            "['Kauã', 'Bernardo', 'Artur', 'Adriana']\n"
          ]
        }
      ]
    },
    {
      "cell_type": "code",
      "source": [
        "print (nomes[3])"
      ],
      "metadata": {
        "colab": {
          "base_uri": "https://localhost:8080/",
          "height": 0
        },
        "id": "VO5L0zuwFdYl",
        "outputId": "637e705a-7c55-4068-d39c-53090feb7d3e"
      },
      "execution_count": 7,
      "outputs": [
        {
          "output_type": "stream",
          "name": "stdout",
          "text": [
            "Adriana\n"
          ]
        }
      ]
    },
    {
      "cell_type": "code",
      "source": [
        "nomes.pop(2)"
      ],
      "metadata": {
        "colab": {
          "base_uri": "https://localhost:8080/",
          "height": 35
        },
        "id": "IWGTBu66Fwyd",
        "outputId": "aa216401-37c6-4420-ee46-f4348c9081a2"
      },
      "execution_count": 9,
      "outputs": [
        {
          "output_type": "execute_result",
          "data": {
            "text/plain": [
              "'Artur'"
            ],
            "application/vnd.google.colaboratory.intrinsic+json": {
              "type": "string"
            }
          },
          "metadata": {},
          "execution_count": 9
        }
      ]
    },
    {
      "cell_type": "code",
      "source": [
        "print (nomes)"
      ],
      "metadata": {
        "colab": {
          "base_uri": "https://localhost:8080/",
          "height": 0
        },
        "id": "0eAmvpWJGZpe",
        "outputId": "1af84516-8cbe-4e1b-899f-58fc3409498d"
      },
      "execution_count": 10,
      "outputs": [
        {
          "output_type": "stream",
          "name": "stdout",
          "text": [
            "['Kauã', 'Bernardo', 'Adriana']\n"
          ]
        }
      ]
    },
    {
      "cell_type": "code",
      "source": [
        "for i in range (10):\n",
        "  print (i)"
      ],
      "metadata": {
        "colab": {
          "base_uri": "https://localhost:8080/"
        },
        "id": "4ubnOHhvGtnS",
        "outputId": "62d15eb2-2215-4065-eed5-e796e8379674"
      },
      "execution_count": 13,
      "outputs": [
        {
          "output_type": "stream",
          "name": "stdout",
          "text": [
            "0\n",
            "1\n",
            "2\n",
            "3\n",
            "4\n",
            "5\n",
            "6\n",
            "7\n",
            "8\n",
            "9\n"
          ]
        }
      ]
    },
    {
      "cell_type": "code",
      "source": [
        "for nomes in nomes:\n",
        "  print (nomes)"
      ],
      "metadata": {
        "colab": {
          "base_uri": "https://localhost:8080/"
        },
        "id": "cgNLOuS8Hd7W",
        "outputId": "6312e8da-7498-4286-f764-869a8762bb16"
      },
      "execution_count": 14,
      "outputs": [
        {
          "output_type": "stream",
          "name": "stdout",
          "text": [
            "Kauã\n",
            "Bernardo\n",
            "Adriana\n"
          ]
        }
      ]
    },
    {
      "cell_type": "code",
      "source": [
        "for nomes in \"Adriana\":\n",
        "  print (nomes)"
      ],
      "metadata": {
        "colab": {
          "base_uri": "https://localhost:8080/"
        },
        "id": "SDCbHJU9Ii4r",
        "outputId": "547fcd51-be0d-4c18-e113-7e004b203893"
      },
      "execution_count": 15,
      "outputs": [
        {
          "output_type": "stream",
          "name": "stdout",
          "text": [
            "A\n",
            "d\n",
            "r\n",
            "i\n",
            "a\n",
            "n\n",
            "a\n"
          ]
        }
      ]
    },
    {
      "cell_type": "code",
      "source": [
        "for nomes in range (1):\n",
        "  print (nomes)"
      ],
      "metadata": {
        "colab": {
          "base_uri": "https://localhost:8080/"
        },
        "id": "EN_GMxT6I9KO",
        "outputId": "15942bb4-36c4-4eb5-865d-34dea8b9e40c"
      },
      "execution_count": 22,
      "outputs": [
        {
          "output_type": "stream",
          "name": "stdout",
          "text": [
            "0\n"
          ]
        }
      ]
    },
    {
      "cell_type": "code",
      "source": [
        "contador = 0\n",
        "while contador < 10:\n",
        "  print(contador)\n",
        "  contador += 1"
      ],
      "metadata": {
        "colab": {
          "base_uri": "https://localhost:8080/"
        },
        "id": "1ClLrRzvJVn_",
        "outputId": "19eda6ad-5556-4d88-b5cd-f40a799b51a1"
      },
      "execution_count": 28,
      "outputs": [
        {
          "output_type": "stream",
          "name": "stdout",
          "text": [
            "0\n",
            "1\n",
            "2\n",
            "3\n",
            "4\n",
            "5\n",
            "6\n",
            "7\n",
            "8\n",
            "9\n"
          ]
        }
      ]
    },
    {
      "cell_type": "code",
      "source": [
        "for i in range (0,10):\n",
        "  print(i)\n"
      ],
      "metadata": {
        "colab": {
          "base_uri": "https://localhost:8080/"
        },
        "id": "QFyUJ1V0K9TA",
        "outputId": "d7f783c0-9f13-4eb6-8c93-5c4d7414a144"
      },
      "execution_count": 35,
      "outputs": [
        {
          "output_type": "stream",
          "name": "stdout",
          "text": [
            "0\n",
            "1\n",
            "2\n",
            "3\n",
            "4\n",
            "5\n",
            "6\n",
            "7\n",
            "8\n",
            "9\n"
          ]
        }
      ]
    },
    {
      "cell_type": "code",
      "source": [
        "soma = 0\n",
        "for i in range (0,11):\n",
        "  soma += i\n",
        "  print(\"Soma:\", soma)"
      ],
      "metadata": {
        "colab": {
          "base_uri": "https://localhost:8080/"
        },
        "id": "AIZ7AVEKL_qp",
        "outputId": "2905b560-c3c2-4c8a-8f43-195cb2aa3771"
      },
      "execution_count": 44,
      "outputs": [
        {
          "output_type": "stream",
          "name": "stdout",
          "text": [
            "Soma: 0\n",
            "Soma: 1\n",
            "Soma: 3\n",
            "Soma: 6\n",
            "Soma: 10\n",
            "Soma: 15\n",
            "Soma: 21\n",
            "Soma: 28\n",
            "Soma: 36\n",
            "Soma: 45\n",
            "Soma: 55\n"
          ]
        }
      ]
    },
    {
      "cell_type": "code",
      "source": [
        "n = int(input(\"Digite um numero: \"))\n",
        "for i in range(1,11):\n",
        "  print(f\"{n} x {i} = {n*i}\")"
      ],
      "metadata": {
        "colab": {
          "base_uri": "https://localhost:8080/"
        },
        "id": "xnEPqiO2OAgD",
        "outputId": "105c6a1b-7487-414a-a9c7-ddc91d447063"
      },
      "execution_count": 47,
      "outputs": [
        {
          "output_type": "stream",
          "name": "stdout",
          "text": [
            "Digite um numero: 9\n",
            "9 x 1 = 9\n",
            "9 x 2 = 18\n",
            "9 x 3 = 27\n",
            "9 x 4 = 36\n",
            "9 x 5 = 45\n",
            "9 x 6 = 54\n",
            "9 x 7 = 63\n",
            "9 x 8 = 72\n",
            "9 x 9 = 81\n",
            "9 x 10 = 90\n"
          ]
        }
      ]
    },
    {
      "cell_type": "code",
      "source": [
        "contador = 0\n",
        "while contador <= 20:\n",
        "  print(contador)\n",
        "  contador += 2"
      ],
      "metadata": {
        "colab": {
          "base_uri": "https://localhost:8080/"
        },
        "id": "cN7MZC1oPFyb",
        "outputId": "0c934867-d156-466a-bffc-f0bfbc330559"
      },
      "execution_count": 51,
      "outputs": [
        {
          "output_type": "stream",
          "name": "stdout",
          "text": [
            "0\n",
            "2\n",
            "4\n",
            "6\n",
            "8\n",
            "10\n",
            "12\n",
            "14\n",
            "16\n",
            "18\n",
            "20\n"
          ]
        }
      ]
    },
    {
      "cell_type": "code",
      "source": [
        "for i in range (1,21):\n",
        " if i %2 == 0:\n",
        "  print(i)\n",
        "\n"
      ],
      "metadata": {
        "colab": {
          "base_uri": "https://localhost:8080/"
        },
        "id": "mx0bGKuBQ2hm",
        "outputId": "791cc2b3-9abf-4607-e545-f844f06d948f"
      },
      "execution_count": 64,
      "outputs": [
        {
          "output_type": "stream",
          "name": "stdout",
          "text": [
            "2\n",
            "4\n",
            "6\n",
            "8\n",
            "10\n",
            "12\n",
            "14\n",
            "16\n",
            "18\n",
            "20\n"
          ]
        }
      ]
    },
    {
      "cell_type": "code",
      "source": [
        "for i in range (0,21, 2):\n",
        "\n",
        "  print (i)"
      ],
      "metadata": {
        "colab": {
          "base_uri": "https://localhost:8080/"
        },
        "id": "e50fnXkoSYzq",
        "outputId": "7bf3b546-5465-4d05-9c77-e0f159b937c9"
      },
      "execution_count": 66,
      "outputs": [
        {
          "output_type": "stream",
          "name": "stdout",
          "text": [
            "0\n",
            "2\n",
            "4\n",
            "6\n",
            "8\n",
            "10\n",
            "12\n",
            "14\n",
            "16\n",
            "18\n",
            "20\n"
          ]
        }
      ]
    },
    {
      "cell_type": "code",
      "source": [
        "for i in range (0,950, 9):\n",
        "\n",
        "  print (i)"
      ],
      "metadata": {
        "colab": {
          "base_uri": "https://localhost:8080/"
        },
        "id": "_aSbs5PKSuGW",
        "outputId": "960ffc2e-83ef-470e-dd21-08835f70d759"
      },
      "execution_count": 67,
      "outputs": [
        {
          "output_type": "stream",
          "name": "stdout",
          "text": [
            "0\n",
            "9\n",
            "18\n",
            "27\n",
            "36\n",
            "45\n",
            "54\n",
            "63\n",
            "72\n",
            "81\n",
            "90\n",
            "99\n",
            "108\n",
            "117\n",
            "126\n",
            "135\n",
            "144\n",
            "153\n",
            "162\n",
            "171\n",
            "180\n",
            "189\n",
            "198\n",
            "207\n",
            "216\n",
            "225\n",
            "234\n",
            "243\n",
            "252\n",
            "261\n",
            "270\n",
            "279\n",
            "288\n",
            "297\n",
            "306\n",
            "315\n",
            "324\n",
            "333\n",
            "342\n",
            "351\n",
            "360\n",
            "369\n",
            "378\n",
            "387\n",
            "396\n",
            "405\n",
            "414\n",
            "423\n",
            "432\n",
            "441\n",
            "450\n",
            "459\n",
            "468\n",
            "477\n",
            "486\n",
            "495\n",
            "504\n",
            "513\n",
            "522\n",
            "531\n",
            "540\n",
            "549\n",
            "558\n",
            "567\n",
            "576\n",
            "585\n",
            "594\n",
            "603\n",
            "612\n",
            "621\n",
            "630\n",
            "639\n",
            "648\n",
            "657\n",
            "666\n",
            "675\n",
            "684\n",
            "693\n",
            "702\n",
            "711\n",
            "720\n",
            "729\n",
            "738\n",
            "747\n",
            "756\n",
            "765\n",
            "774\n",
            "783\n",
            "792\n",
            "801\n",
            "810\n",
            "819\n",
            "828\n",
            "837\n",
            "846\n",
            "855\n",
            "864\n",
            "873\n",
            "882\n",
            "891\n",
            "900\n",
            "909\n",
            "918\n",
            "927\n",
            "936\n",
            "945\n"
          ]
        }
      ]
    },
    {
      "cell_type": "code",
      "source": [
        "for i in range(10,-1,-1):\n",
        " print(i)"
      ],
      "metadata": {
        "colab": {
          "base_uri": "https://localhost:8080/"
        },
        "id": "P8FBGD_KTbnm",
        "outputId": "0a6d5fea-2570-4d8a-98d7-9a6ea9848e42"
      },
      "execution_count": 71,
      "outputs": [
        {
          "output_type": "stream",
          "name": "stdout",
          "text": [
            "10\n",
            "9\n",
            "8\n",
            "7\n",
            "6\n",
            "5\n",
            "4\n",
            "3\n",
            "2\n",
            "1\n",
            "0\n"
          ]
        }
      ]
    },
    {
      "cell_type": "code",
      "source": [
        "num = int(input(\"Digite um numero (0 para sair): \"))\n",
        "while num != 0:\n",
        "  num = int(input(\"Digite um numero (0 para sair): \"))\n",
        "  print(\"Soma total:\",soma)"
      ],
      "metadata": {
        "colab": {
          "base_uri": "https://localhost:8080/"
        },
        "id": "0l5VKu4hUPjO",
        "outputId": "5d29e2a1-56bf-4426-875d-8be6a3358519"
      },
      "execution_count": 72,
      "outputs": [
        {
          "output_type": "stream",
          "name": "stdout",
          "text": [
            "Digite um numero (0 para sair): 6\n",
            "Digite um numero (0 para sair): 5\n",
            "Soma total: 55\n",
            "Digite um numero (0 para sair): 2\n",
            "Soma total: 55\n",
            "Digite um numero (0 para sair): 8\n",
            "Soma total: 55\n",
            "Digite um numero (0 para sair): 0\n",
            "Soma total: 55\n"
          ]
        }
      ]
    },
    {
      "cell_type": "code",
      "source": [
        "senha = \"235523\"\n",
        "tentativas = 0\n",
        "while True:\n",
        "  tentativas +=1\n",
        "  senhaDigitada =\"\"\n",
        "  senhaDigitada = input(\"Digite a senha: \")\n",
        "  if senhaDigitada != senha:\n",
        "    print(\"Senha incorreta\")\n",
        "  else:\n",
        "    print(\"Senha correta\")\n",
        "    break\n",
        "\n",
        "    if tentativas >= 3:\n",
        "     print(\"Tentativas esgotadas\")\n",
        "     break"
      ],
      "metadata": {
        "colab": {
          "base_uri": "https://localhost:8080/"
        },
        "id": "n6BQ3-pcX9qW",
        "outputId": "67cc3a3f-87d2-4670-d2df-f0ebf8729e8e"
      },
      "execution_count": 91,
      "outputs": [
        {
          "output_type": "stream",
          "name": "stdout",
          "text": [
            "Digite a senha: 235523\n",
            "Senha correta\n"
          ]
        }
      ]
    }
  ]
}