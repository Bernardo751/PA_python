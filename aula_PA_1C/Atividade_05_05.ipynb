{
  "nbformat": 4,
  "nbformat_minor": 0,
  "metadata": {
    "colab": {
      "provenance": [],
      "authorship_tag": "ABX9TyOZil/Adb1o69pdI85ABePY",
      "include_colab_link": true
    },
    "kernelspec": {
      "name": "python3",
      "display_name": "Python 3"
    },
    "language_info": {
      "name": "python"
    }
  },
  "cells": [
    {
      "cell_type": "markdown",
      "metadata": {
        "id": "view-in-github",
        "colab_type": "text"
      },
      "source": [
        "<a href=\"https://colab.research.google.com/github/Bernardo751/PA_python/blob/main/Atividade_05_05.ipynb\" target=\"_parent\"><img src=\"https://colab.research.google.com/assets/colab-badge.svg\" alt=\"Open In Colab\"/></a>"
      ]
    },
    {
      "cell_type": "code",
      "execution_count": 2,
      "metadata": {
        "colab": {
          "base_uri": "https://localhost:8080/"
        },
        "id": "thRwQNFgqf0f",
        "outputId": "2a468640-4b2f-4d08-a1e4-0bc265167950"
      },
      "outputs": [
        {
          "output_type": "stream",
          "name": "stdout",
          "text": [
            "Digite a idade 1: 40\n",
            "Digite a idade 2: 35\n",
            "True\n",
            "False\n",
            "A idade1 será maior que idade2?  True\n"
          ]
        }
      ],
      "source": [
        "##Entrada\n",
        "Idade1 = int(input(\"Digite a idade 1: \"))\n",
        "Idade2 = int(input(\"Digite a idade 2: \"))\n",
        "\n",
        "##Porcessamento\n",
        "Idade1=(Idade1 > Idade2)\n",
        "print(Idade1)\n",
        "\n",
        "Idade2=(Idade2 < Idade1)\n",
        "print(Idade2)\n",
        "\n",
        "\n",
        "##Saida\n",
        "\n",
        "print(\"A idade1 será maior que idade2? \", Idade1)"
      ]
    },
    {
      "cell_type": "code",
      "source": [
        "##Entrada\n",
        "idade=int(input(\"Digite a idade: \"))\n",
        "senha=int(input(\"Digite a senha: \"))\n",
        "\n",
        "##Processamento\n",
        "Acesso_liberado=idade>=18 and senha==1234\n",
        "\n",
        "##Saida\n",
        "print(\"Acesso:\", Acesso_liberado)\n"
      ],
      "metadata": {
        "colab": {
          "base_uri": "https://localhost:8080/"
        },
        "id": "0Z35eL1guPqe",
        "outputId": "6b81807b-bc46-44ac-a1b3-43c7fb3836d2"
      },
      "execution_count": 4,
      "outputs": [
        {
          "output_type": "stream",
          "name": "stdout",
          "text": [
            "Digite a idade: 19\n",
            "Digite a senha: 1234\n",
            "Acesso: True\n"
          ]
        }
      ]
    },
    {
      "cell_type": "code",
      "source": [
        "##Entrada\n",
        "numero=int(input(\"Digite o numero maior: \"))\n",
        "\n",
        "\n",
        "##Processamento\n",
        "esta=numero>=10 and numero<=50\n",
        "\n",
        "##Saida\n",
        "\n",
        "print(\"O numero esta entre 10 e 50?\", esta )"
      ],
      "metadata": {
        "colab": {
          "base_uri": "https://localhost:8080/"
        },
        "id": "6vBk4UiYwjXW",
        "outputId": "44bb7756-9dc5-4591-d553-2c4dbbd84e86"
      },
      "execution_count": 6,
      "outputs": [
        {
          "output_type": "stream",
          "name": "stdout",
          "text": [
            "Digite o numero maior: 29\n",
            "O numero esta entre 10 e 50? True\n"
          ]
        }
      ]
    },
    {
      "cell_type": "code",
      "source": [
        "##Entrada\n",
        "preço=float(input(\"digite o preço: \"))\n",
        "saldo=float(input(\"digite o dinheiro: \"))\n",
        "digite=int(input(\"digite o cupom:\" ))\n",
        "\n",
        "##Processamento\n",
        "pode= preço<= saldo\n",
        "print(pode)\n",
        "cupom=digite==1234 and preço>=saldo\n",
        "print(cupom)\n",
        "\n",
        "##Saida\n",
        "print(\"Pode comprar o produto?\", pode)\n",
        "print(\"Pode comprar o produto com o cupom?\", cupom)"
      ],
      "metadata": {
        "colab": {
          "base_uri": "https://localhost:8080/"
        },
        "id": "3PYrgksF4xxJ",
        "outputId": "790e5eec-7590-40f6-90fd-a49c8979f9d4"
      },
      "execution_count": 9,
      "outputs": [
        {
          "output_type": "stream",
          "name": "stdout",
          "text": [
            "digite o preço: 509\n",
            "digite o dinheiro: 400\n",
            "digite o cupom:109\n",
            "False\n",
            "False\n",
            "Pode comprar o produto? False\n",
            "Pode comprar o produto com o cupom? False\n"
          ]
        }
      ]
    },
    {
      "cell_type": "code",
      "source": [
        "##Entrada\n",
        "numero=int(input(\"Digite o numero\"))\n",
        "\n",
        "##Processamento\n",
        "par=numero%2==0\n",
        "print(par)\n",
        "\n",
        "positivo=numero>=0\n",
        "print(positivo)\n",
        "\n",
        "##Saida\n",
        "print(\"O numero é par?\", par)\n",
        "print(\"O numero é positivo?\", positivo)"
      ],
      "metadata": {
        "colab": {
          "base_uri": "https://localhost:8080/"
        },
        "id": "ZQDvrGud7Q4x",
        "outputId": "0abfb40a-7ae1-4ee7-e7fb-8815644dd6aa"
      },
      "execution_count": 14,
      "outputs": [
        {
          "output_type": "stream",
          "name": "stdout",
          "text": [
            "Digite o numero10\n",
            "True\n",
            "True\n",
            "O numero é par? True\n",
            "O numero é positivo? True\n"
          ]
        }
      ]
    },
    {
      "cell_type": "code",
      "source": [
        "##Entrada\n",
        "idade=int(input(\"Digite a idade: \"))\n",
        "\n",
        "##Processamento\n",
        "esta=idade>=13 and idade<=17\n",
        "\n",
        "##Saida\n",
        "print(\"Pode?\", esta)"
      ],
      "metadata": {
        "colab": {
          "base_uri": "https://localhost:8080/"
        },
        "id": "v5BlcVNT9T4o",
        "outputId": "f558bd57-145d-4314-d013-bd23f1ef0cdb"
      },
      "execution_count": 24,
      "outputs": [
        {
          "output_type": "stream",
          "name": "stdout",
          "text": [
            "Digite a idade: 15\n",
            "Pode? True\n"
          ]
        }
      ]
    },
    {
      "cell_type": "code",
      "source": [
        "##Entrada\n",
        "adm=int(input(\"Digite 1 se você é adm: \"))\n",
        "senha=int(input(\"Digite a senha: \"))\n",
        "\n",
        "##Processamento\n",
        "adm==1\n",
        "senha= senha==12345\n",
        "\n",
        "##Saida\n",
        "print(\"Acesso:\", Acesso_liberado)\n",
        "\n",
        "\n"
      ],
      "metadata": {
        "colab": {
          "base_uri": "https://localhost:8080/"
        },
        "id": "7uUVzcF__K6h",
        "outputId": "a0f3e31c-a930-4a21-f2f3-a7bb02fa43f7"
      },
      "execution_count": 28,
      "outputs": [
        {
          "output_type": "stream",
          "name": "stdout",
          "text": [
            "Digite 1 se você é adm: 1\n",
            "Digite a senha: 12345\n",
            "Acesso: True\n"
          ]
        }
      ]
    },
    {
      "cell_type": "code",
      "source": [
        "##Entrada\n",
        "\n",
        "nota=int(input(\"Digite a nota:\" ))\n",
        "presença=int(input(\"Digite 1 se você não estiver ausente:\" ))\n",
        "\n",
        "##Processamento\n",
        "aprovado=nota>=6\n",
        "presença==1\n",
        "\n",
        "##Saida\n",
        "print(\"O aluno foi aprovado?\", aprovado)"
      ],
      "metadata": {
        "colab": {
          "base_uri": "https://localhost:8080/"
        },
        "id": "6Czy1kMmAkV9",
        "outputId": "5637db0b-29bc-4328-fbb0-47b04f06b4e4"
      },
      "execution_count": 32,
      "outputs": [
        {
          "output_type": "stream",
          "name": "stdout",
          "text": [
            "Digite a nota:7\n",
            "Digite 1 se você não estiver ausente:1\n",
            "O aluno foi aprovado? True\n"
          ]
        }
      ]
    },
    {
      "cell_type": "code",
      "source": [
        "##Entrada\n",
        "velocidade=float(input(\"DIgite a sua velocidade:\" ))\n",
        "\n",
        "\n",
        "##Processamento\n",
        "limite=80\n",
        "multa=velocidade>limite\n",
        "\n",
        "##Saida\n",
        "print(\"Você foi multado? \", multa)\n"
      ],
      "metadata": {
        "colab": {
          "base_uri": "https://localhost:8080/"
        },
        "id": "ECMqxJYhCcma",
        "outputId": "745a5012-4191-40eb-bfcd-f18c73bc4179"
      },
      "execution_count": 33,
      "outputs": [
        {
          "output_type": "stream",
          "name": "stdout",
          "text": [
            "DIgite a sua velocidade:60\n",
            "Você foi multado?  False\n"
          ]
        }
      ]
    },
    {
      "cell_type": "code",
      "source": [
        "##Entrada\n",
        "convite=int(input(\"Digite 1 se você tem o convite: \"))\n",
        "idade=int(input(\"Digite a sua idade: \"))\n",
        "\n",
        "##Processamento\n",
        "convite==1\n",
        "idade= idade>=18\n",
        "\n",
        "#Saida\n",
        "print(\"Pode entrar neste evento?\", idade)"
      ],
      "metadata": {
        "colab": {
          "base_uri": "https://localhost:8080/"
        },
        "id": "cunViSpODK8_",
        "outputId": "4ec718ab-7ac0-46fb-a2dc-12e650ba3fae"
      },
      "execution_count": 34,
      "outputs": [
        {
          "output_type": "stream",
          "name": "stdout",
          "text": [
            "Digite 1 se você tem o convite: 1\n",
            "Digite a sua idade: 19\n",
            "Pode entrar neste evento? True\n"
          ]
        }
      ]
    }
  ]
}