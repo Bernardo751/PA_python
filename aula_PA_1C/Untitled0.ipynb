{
  "nbformat": 4,
  "nbformat_minor": 0,
  "metadata": {
    "colab": {
      "provenance": [],
      "authorship_tag": "ABX9TyNFOfC2ah45xFTvoGWMqtPM",
      "include_colab_link": true
    },
    "kernelspec": {
      "name": "python3",
      "display_name": "Python 3"
    },
    "language_info": {
      "name": "python"
    }
  },
  "cells": [
    {
      "cell_type": "markdown",
      "metadata": {
        "id": "view-in-github",
        "colab_type": "text"
      },
      "source": [
        "<a href=\"https://colab.research.google.com/github/Bernardo751/PA_python/blob/main/aula_PA_1C/Untitled0.ipynb\" target=\"_parent\"><img src=\"https://colab.research.google.com/assets/colab-badge.svg\" alt=\"Open In Colab\"/></a>"
      ]
    },
    {
      "cell_type": "code",
      "execution_count": 1,
      "metadata": {
        "id": "zrZgdg-T99V-",
        "colab": {
          "base_uri": "https://localhost:8080/"
        },
        "outputId": "250815bb-b5d0-4bca-b2b5-77839541fd1a"
      },
      "outputs": [
        {
          "output_type": "stream",
          "name": "stdout",
          "text": [
            "A soma é igal a 15\n"
          ]
        }
      ],
      "source": [
        "# Somar\n",
        "\n",
        "##Entrada\n",
        "num1 = 5\n",
        "num2 = 10\n",
        "\n",
        "##Processamento\n",
        "soma = num1 +  num2\n",
        "\n",
        "##Saida\n",
        "print('A soma é igal a', soma)"
      ]
    },
    {
      "cell_type": "code",
      "source": [
        "# Subtrair\n",
        "\n",
        "##Entrada\n",
        "num1 = 17\n",
        "num2 = 15\n",
        "\n",
        "##Processamento\n",
        "subtração = num1 - num2\n",
        "\n",
        "##Saida\n",
        "print('A subtração é igual a', subtração)"
      ],
      "metadata": {
        "colab": {
          "base_uri": "https://localhost:8080/"
        },
        "id": "5z6xypgqAlOT",
        "outputId": "d1258b84-9834-4c72-ae80-e1b32a5a8aab"
      },
      "execution_count": 3,
      "outputs": [
        {
          "output_type": "stream",
          "name": "stdout",
          "text": [
            "A subtração é igual a 2\n"
          ]
        }
      ]
    },
    {
      "cell_type": "code",
      "source": [
        "# Multiplicação\n",
        "\n",
        "##Entrada\n",
        "num1 = 74\n",
        "num2 = 3\n",
        "\n",
        "##Processamento\n",
        "multiplicação = num1 * num2\n",
        "\n",
        "##Saida\n",
        "print('A multiplicação é igual a', multiplicação)"
      ],
      "metadata": {
        "colab": {
          "base_uri": "https://localhost:8080/"
        },
        "id": "AMzneULtBWHM",
        "outputId": "0df41682-e6c6-46d1-d76a-a8dc8a9b1a2c"
      },
      "execution_count": 5,
      "outputs": [
        {
          "output_type": "stream",
          "name": "stdout",
          "text": [
            "A multiplicação é igual a 222\n"
          ]
        }
      ]
    },
    {
      "cell_type": "code",
      "source": [
        "# Divisão\n",
        "\n",
        "##Entrada\n",
        "num1 = 15\n",
        "num2 = 3\n",
        "\n",
        "##Processamento\n",
        "divisão = num1 / num2\n",
        "\n",
        "##Saida\n",
        "print('A divisão é igual a', divisão)"
      ],
      "metadata": {
        "colab": {
          "base_uri": "https://localhost:8080/"
        },
        "id": "DwP2IeKyCTdM",
        "outputId": "cd7ab703-5b27-479f-af82-81579f909099"
      },
      "execution_count": 6,
      "outputs": [
        {
          "output_type": "stream",
          "name": "stdout",
          "text": [
            "A divisão é igual a 5.0\n"
          ]
        }
      ]
    }
  ]
}