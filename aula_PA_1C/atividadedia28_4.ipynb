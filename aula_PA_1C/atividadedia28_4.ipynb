{
  "nbformat": 4,
  "nbformat_minor": 0,
  "metadata": {
    "colab": {
      "provenance": [],
      "authorship_tag": "ABX9TyOcbybehhXpHiNHMRGzhnzJ",
      "include_colab_link": true
    },
    "kernelspec": {
      "name": "python3",
      "display_name": "Python 3"
    },
    "language_info": {
      "name": "python"
    }
  },
  "cells": [
    {
      "cell_type": "markdown",
      "metadata": {
        "id": "view-in-github",
        "colab_type": "text"
      },
      "source": [
        "<a href=\"https://colab.research.google.com/github/Bernardo751/PA_python/blob/main/atividadedia28_4.ipynb\" target=\"_parent\"><img src=\"https://colab.research.google.com/assets/colab-badge.svg\" alt=\"Open In Colab\"/></a>"
      ]
    },
    {
      "cell_type": "code",
      "execution_count": 4,
      "metadata": {
        "colab": {
          "base_uri": "https://localhost:8080/"
        },
        "id": "s4baLf7no3HE",
        "outputId": "80bc602a-6c78-4bd9-9f26-1718bcafd70e"
      },
      "outputs": [
        {
          "output_type": "stream",
          "name": "stdout",
          "text": [
            "Digite o numero para saber se ele é impar ou par! 100\n",
            "Esse número é: par True\n",
            "Esse número é: impar False\n"
          ]
        }
      ],
      "source": [
        "#Entrada\n",
        "valor = int(input(\"Digite o numero para saber se ele é impar ou par! \" ))\n",
        "\n",
        "\n",
        "#Processamento\n",
        "par = (valor%2 == 0)\n",
        "impar = (valor%2 == 1)\n",
        "\n",
        "#Saida\n",
        "print(\"Esse número é: par\", par)\n",
        "print(\"Esse número é: impar\", impar)"
      ]
    },
    {
      "cell_type": "code",
      "source": [
        "\n",
        "#Entrada\n",
        "L1 = int(input(\"Digite os três lados do triângulo \"))\n",
        "L2 = int(input(\"Digite o lado do L2 \"))\n",
        "L3 = int(input(\"Digite o lado do L3 \"))\n",
        "\n",
        "#Processamento\n",
        "\n",
        "triângulo= (L1+L2>L3) and (L2+L3>L1) and (L3+L1>L2)\n",
        "print(triângulo)\n",
        "\n",
        "equilatero = (11==12==13)\n",
        "print(equilatero)\n",
        "\n",
        "escaleno = L1!= L2 !=L3\n",
        "print(escaleno)\n",
        "\n",
        "isóceles = (L1==L2)!=L3\n",
        "print(isóceles)\n",
        "\n",
        "\n",
        "#Saida\n",
        "print(\"O triângulo é válido?\",triângulo)\n",
        "print(\"O equilatero é\", equilatero)\n",
        "print(\"O escaleno é\", escaleno)\n",
        "print(\"O isóceles é\", isóceles)\n"
      ],
      "metadata": {
        "colab": {
          "base_uri": "https://localhost:8080/"
        },
        "id": "Vhpwlw2Qtky3",
        "outputId": "4d634ad3-3cc6-4a43-f16e-90ab66db8e7b"
      },
      "execution_count": 14,
      "outputs": [
        {
          "output_type": "stream",
          "name": "stdout",
          "text": [
            "Digite os três lados do triângulo 10\n",
            "Digite o lado do L2 20\n",
            "Digite o lado do L3 40\n",
            "False\n",
            "False\n",
            "True\n",
            "True\n",
            "O triângulo é válido? False\n",
            "O equilatero é False\n",
            "O escaleno é True\n",
            "O isóceles é True\n"
          ]
        }
      ]
    },
    {
      "cell_type": "code",
      "source": [
        "#Entrada\n",
        "peso = float(input(\"Digite o peso (em kg)\"))\n",
        "altura = float(input(\"Digite a altura (metro)\"))\n",
        "\n",
        "##Processamento\n",
        "imc = (peso/altura**2)\n",
        "print(imc)\n",
        "\n",
        "abaixo_do_peso = (imc<18.5)\n",
        "print(abaixo_do_peso)\n",
        "\n",
        "peso_normal = (imc>=18.5 and imc<+24.9)\n",
        "print(peso_normal)\n",
        "\n",
        "sobrepeso = (imc>=25 and imc<=29.9)\n",
        "print(sobrepeso)\n",
        "\n",
        "obesidade1 = (imc>=30 and imc<=34.9)\n",
        "print(obesidade1)\n",
        "\n",
        "obesidade2 = (imc>=35 and imc<=39.9)\n",
        "print(obesidade2)\n",
        "\n",
        "obesidade3 = (imc>=40)\n",
        "print(obesidade3)\n",
        "\n",
        "##Saida\n",
        "\n",
        "print(\"seu imc é\", imc)\n",
        "print(\"seu abaixo_do_peso é\", abaixo_do_peso)\n",
        "print(\"seu peso_normal é\", peso_normal)\n",
        "print(\"seu sobrepeso é\", sobrepeso )\n",
        "print(\"Sua obesidade1 é\", obesidade1)\n",
        "print(\"Sua obesidade2 é\", obesidade2)\n",
        "print(\"Sua obesidade3 é\", obesidade3)\n",
        "\n",
        "\n",
        "\n",
        "\n",
        "\n",
        "\n",
        "\n",
        "\n",
        "\n",
        "\n",
        "\n",
        "\n"
      ],
      "metadata": {
        "colab": {
          "base_uri": "https://localhost:8080/"
        },
        "id": "mJzSS5HXut4E",
        "outputId": "8cef42ef-9379-4886-ccbb-f0d8bfae89d2"
      },
      "execution_count": 27,
      "outputs": [
        {
          "output_type": "stream",
          "name": "stdout",
          "text": [
            "Digite o peso (em kg)50\n",
            "Digite a altura (metro)1.50\n",
            "22.22222222222222\n",
            "False\n",
            "True\n",
            "False\n",
            "False\n",
            "False\n",
            "False\n",
            "seu imc é 22.22222222222222\n",
            "seu abaixo_do_peso é False\n",
            "seu peso_normal é True\n",
            "seu sobrepeso é False\n",
            "Sua obesidade1 é False\n",
            "Sua obesidade2 é False\n",
            "Sua obesidade3 é False\n"
          ]
        }
      ]
    },
    {
      "cell_type": "code",
      "source": [
        "##Entrada\n",
        "altura = float(input(\"informe a aultura\"))\n",
        "idade = int(input(\"informe a idade\"))\n",
        "\n",
        "##Processamento\n",
        "pode = altura>=1.75 and idade>=18\n",
        "\n",
        "##Saida\n",
        "print(\"pode\", pode)\n",
        "\n"
      ],
      "metadata": {
        "colab": {
          "base_uri": "https://localhost:8080/"
        },
        "id": "7fDZk1xnBk-v",
        "outputId": "6044e417-9600-456e-eb26-fa8d890bda97"
      },
      "execution_count": 28,
      "outputs": [
        {
          "output_type": "stream",
          "name": "stdout",
          "text": [
            "informe a aultura1.70\n",
            "informe a idade12\n",
            "pode False\n"
          ]
        }
      ]
    }
  ]
}