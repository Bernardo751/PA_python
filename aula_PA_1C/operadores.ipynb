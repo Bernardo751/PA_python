{
  "nbformat": 4,
  "nbformat_minor": 0,
  "metadata": {
    "colab": {
      "provenance": [],
      "authorship_tag": "ABX9TyMT86hi0sO/9ajuk06csf4z",
      "include_colab_link": true
    },
    "kernelspec": {
      "name": "python3",
      "display_name": "Python 3"
    },
    "language_info": {
      "name": "python"
    }
  },
  "cells": [
    {
      "cell_type": "markdown",
      "metadata": {
        "id": "view-in-github",
        "colab_type": "text"
      },
      "source": [
        "<a href=\"https://colab.research.google.com/github/Bernardo751/PA_python/blob/main/aula_PA_1C/operadores.ipynb\" target=\"_parent\"><img src=\"https://colab.research.google.com/assets/colab-badge.svg\" alt=\"Open In Colab\"/></a>"
      ]
    },
    {
      "cell_type": "code",
      "execution_count": 1,
      "metadata": {
        "colab": {
          "base_uri": "https://localhost:8080/"
        },
        "id": "OruFh333xSPJ",
        "outputId": "cfbc1668-a972-4e02-9da8-8f3a6778d2b9"
      },
      "outputs": [
        {
          "output_type": "execute_result",
          "data": {
            "text/plain": [
              "2"
            ]
          },
          "metadata": {},
          "execution_count": 1
        }
      ],
      "source": [
        "# Soma\n",
        "1+1"
      ]
    },
    {
      "cell_type": "code",
      "source": [
        "# Subtração\n",
        "\n",
        "5-3\n"
      ],
      "metadata": {
        "colab": {
          "base_uri": "https://localhost:8080/"
        },
        "id": "6wD4lmkKxyxN",
        "outputId": "b07cffb4-19f9-4d2d-bc60-3eb50d075cb5"
      },
      "execution_count": 2,
      "outputs": [
        {
          "output_type": "execute_result",
          "data": {
            "text/plain": [
              "2"
            ]
          },
          "metadata": {},
          "execution_count": 2
        }
      ]
    },
    {
      "cell_type": "code",
      "source": [
        "# Multiplicação\n",
        "\n",
        "5*5"
      ],
      "metadata": {
        "colab": {
          "base_uri": "https://localhost:8080/"
        },
        "id": "lrWi5IdAyA2v",
        "outputId": "3ffab4bd-6ca1-4b77-b12d-329d7d255846"
      },
      "execution_count": 3,
      "outputs": [
        {
          "output_type": "execute_result",
          "data": {
            "text/plain": [
              "25"
            ]
          },
          "metadata": {},
          "execution_count": 3
        }
      ]
    },
    {
      "cell_type": "code",
      "source": [
        "# Divisão\n",
        "6/2"
      ],
      "metadata": {
        "colab": {
          "base_uri": "https://localhost:8080/"
        },
        "id": "DUOVe-GCyVYD",
        "outputId": "83207d3f-567f-4f1f-b1bb-1e9469826b8c"
      },
      "execution_count": 4,
      "outputs": [
        {
          "output_type": "execute_result",
          "data": {
            "text/plain": [
              "3.0"
            ]
          },
          "metadata": {},
          "execution_count": 4
        }
      ]
    },
    {
      "cell_type": "code",
      "source": [
        "# Expoente\n",
        "\n",
        "2**3"
      ],
      "metadata": {
        "colab": {
          "base_uri": "https://localhost:8080/"
        },
        "id": "hok7ppN0y1eF",
        "outputId": "20790a35-90b4-4833-9bda-238ab685e96c"
      },
      "execution_count": 11,
      "outputs": [
        {
          "output_type": "execute_result",
          "data": {
            "text/plain": [
              "8"
            ]
          },
          "metadata": {},
          "execution_count": 11
        }
      ]
    },
    {
      "cell_type": "markdown",
      "source": [
        "Variáveis"
      ],
      "metadata": {
        "id": "8wVy80cpzaRj"
      }
    },
    {
      "cell_type": "code",
      "source": [
        "soma = 5+7"
      ],
      "metadata": {
        "id": "CW_KRrnXzhGm"
      },
      "execution_count": 12,
      "outputs": []
    },
    {
      "cell_type": "code",
      "source": [
        "print ('A soma é igual', soma)"
      ],
      "metadata": {
        "colab": {
          "base_uri": "https://localhost:8080/"
        },
        "id": "9BhV4b3R0KqC",
        "outputId": "4985278e-22de-4862-e27b-04405e8be6a4"
      },
      "execution_count": 13,
      "outputs": [
        {
          "output_type": "stream",
          "name": "stdout",
          "text": [
            "A soma é igual 12\n"
          ]
        }
      ]
    },
    {
      "cell_type": "code",
      "source": [
        "soma = soma + 2\n",
        "print ('A soma agora é ', soma)"
      ],
      "metadata": {
        "colab": {
          "base_uri": "https://localhost:8080/"
        },
        "id": "ynkHyv_80tM6",
        "outputId": "d6cf4b7a-b814-4fe6-d602-35d452779e74"
      },
      "execution_count": 14,
      "outputs": [
        {
          "output_type": "stream",
          "name": "stdout",
          "text": [
            "A soma agora é  14\n"
          ]
        }
      ]
    },
    {
      "cell_type": "code",
      "source": [
        "soma = soma - 5\n",
        "print ('A soma agora tem ', soma)"
      ],
      "metadata": {
        "colab": {
          "base_uri": "https://localhost:8080/"
        },
        "id": "jIvxjwtr10LQ",
        "outputId": "47238811-f610-4893-e46d-42301f03492b"
      },
      "execution_count": 15,
      "outputs": [
        {
          "output_type": "stream",
          "name": "stdout",
          "text": [
            "A soma agora tem  9\n"
          ]
        }
      ]
    },
    {
      "cell_type": "code",
      "source": [
        "soma = soma +2-5*8/3\n",
        "print ('A soma agora tem', soma)"
      ],
      "metadata": {
        "colab": {
          "base_uri": "https://localhost:8080/"
        },
        "id": "HiXeu2S_2XLj",
        "outputId": "75a0caa8-8c1e-4dcd-900b-e910dc2a1814"
      },
      "execution_count": 17,
      "outputs": [
        {
          "output_type": "stream",
          "name": "stdout",
          "text": [
            "A soma agora tem -4.666666666666666\n"
          ]
        }
      ]
    },
    {
      "cell_type": "markdown",
      "source": [
        "Variáveis 1"
      ],
      "metadata": {
        "id": "S2OCT3C93kL6"
      }
    },
    {
      "cell_type": "code",
      "source": [
        "Soma1 = 7+2-3 * (89-25) /2\n",
        "print ('soma 1 é igual a ', soma)"
      ],
      "metadata": {
        "colab": {
          "base_uri": "https://localhost:8080/"
        },
        "id": "jPdh7ptT3tw6",
        "outputId": "1499e17a-767a-4fd5-bfc2-385ef643b304"
      },
      "execution_count": 23,
      "outputs": [
        {
          "output_type": "stream",
          "name": "stdout",
          "text": [
            "soma 1 é igual a  3\n"
          ]
        }
      ]
    },
    {
      "cell_type": "code",
      "source": [
        "# Calcular área do quadrado6\n",
        "\n",
        "##Entrada\n",
        "lado = float(input('digite o lado do quadrado'))\n",
        "\n",
        "##Processamento\n",
        "area = lado * lado\n",
        "\n",
        "##Saida\n",
        "print ('A área do quadrado é', area, 'cm2')"
      ],
      "metadata": {
        "colab": {
          "base_uri": "https://localhost:8080/"
        },
        "id": "b6HMW_d86R6Z",
        "outputId": "2292cff8-15c4-4b52-edfe-f9a00ece54c9"
      },
      "execution_count": 27,
      "outputs": [
        {
          "output_type": "stream",
          "name": "stdout",
          "text": [
            "digite o lado do quadrado6\n",
            "A área do quadrado é 36.0 cm2\n"
          ]
        }
      ]
    }
  ]
}